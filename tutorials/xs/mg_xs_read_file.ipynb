{
 "cells": [
  {
   "cell_type": "markdown",
   "metadata": {},
   "source": [
    "# Read ASCII file for multi-group cross sections\n",
    "Here, we load the cross sections from a plain text file (OpenSn format).\n",
    "\n",
    "To run the code, simply type: `jupyter nbconvert --to python --execute <basename>.ipynb`.\n",
    "\n",
    "To convert it to a python file (named `<basename>.py`), simply type: `jupyter nbconvert --to python <basename>.ipynb`"
   ]
  },
  {
   "cell_type": "code",
   "execution_count": null,
   "metadata": {
    "vscode": {
     "languageId": "plaintext"
    }
   },
   "outputs": [],
   "source": [
    "import os\n",
    "import sys\n",
    "import numpy as np\n",
    "from mpi4py import MPI\n",
    "\n",
    "sys.path.append(\"../..\")\n",
    "\n",
    "from pyopensn.xs import MultiGroupXS\n",
    "from pyopensn.context import UseColor, Finalize\n",
    "\n",
    "UseColor(False)"
   ]
  },
  {
   "cell_type": "markdown",
   "metadata": {},
   "source": [
    "## Call the cross-section reader"
   ]
  },
  {
   "cell_type": "code",
   "execution_count": null,
   "metadata": {
    "vscode": {
     "languageId": "plaintext"
    }
   },
   "outputs": [],
   "source": [
    "# load cross sections\n",
    "xs_mat = MultiGroupXS()\n",
    "xs_mat.LoadFromOpenSn(\"xs_2g.xs\")"
   ]
  },
  {
   "cell_type": "markdown",
   "metadata": {},
   "source": [
    "## Some cross-section data can be retrieved in Python"
   ]
  },
  {
   "cell_type": "code",
   "execution_count": null,
   "metadata": {
    "vscode": {
     "languageId": "plaintext"
    }
   },
   "outputs": [],
   "source": [
    "# Retrieve properties\n",
    "ng = xs_mat.num_groups\n",
    "sca_order = xs_mat.scattering_order\n",
    "print(\"num_groups       = \", ng)\n",
    "print(\"scattering_order = \", sca_order)\n",
    "\n",
    "# note cross sections are read-only objects of type <memoryview>\n",
    "siga = xs_mat.sigma_a\n",
    "print(\"type = \", type(siga))\n",
    "# retrieve a numpy array\n",
    "siga = np.array(xs_mat.sigma_a)\n",
    "print(\"siga = \", siga)\n",
    "# retrieve as list\n",
    "sigt = list(xs_mat.sigma_t)\n",
    "print(\"sigt = \", sigt)"
   ]
  },
  {
   "cell_type": "markdown",
   "metadata": {},
   "source": [
    "## Finalize (for Jupyter Notebook only)\n",
    "\n",
    "In Python script mode, PyOpenSn automatically handles environment termination. However, this\n",
    "automatic finalization does not occur when running in a Jupyter notebook, so explicit finalization\n",
    "of the environment at the end of the notebook is required. Do not call the finalization in Python\n",
    "script mode, or in console mode.\n",
    "\n",
    "Note that PyOpenSn's finalization must be called before MPI's finalization.\n"
   ]
  },
  {
   "cell_type": "code",
   "execution_count": null,
   "metadata": {
    "vscode": {
     "languageId": "plaintext"
    }
   },
   "outputs": [],
   "source": [
    "from IPython import get_ipython\n",
    "\n",
    "def finalize_env():\n",
    "    Finalize()\n",
    "    MPI.Finalize()\n",
    "\n",
    "ipython_instance = get_ipython()\n",
    "if ipython_instance is not None:\n",
    "    ipython_instance.events.register(\"post_execute\", finalize_env)"
   ]
  }
 ],
 "metadata": {
  "kernelspec": {
   "display_name": "Python 3 (ipykernel)",
   "language": "python",
   "name": "python3"
  },
  "language_info": {
   "codemirror_mode": {
    "name": "ipython",
    "version": 3
   },
   "file_extension": ".py",
   "mimetype": "text/x-python",
   "name": "python",
   "nbconvert_exporter": "python",
   "pygments_lexer": "ipython3",
   "version": "3.13.2"
  }
 },
 "nbformat": 4,
 "nbformat_minor": 4
}
