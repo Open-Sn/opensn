{
 "cells": [
  {
   "cell_type": "markdown",
   "metadata": {},
   "source": [
    "# 3D Orthogonal Grid Generation with multiple block IDs\n",
    "This is very similar to the previous `3D Orthogonal Grid` tutorial.\n",
    "\n",
    "However, we assign several block IDs.\n",
    "\n",
    "\n",
    "To run the code, simply type: `jupyter nbconvert --to python --execute <basename>.ipynb`.\n",
    "\n",
    "To convert it to a python file (named `<basename>.py`), simply type: `jupyter nbconvert --to python <basename>.ipynb`\n",
    "\n",
    "To run the python file from the terminal, using N processes, simply type: `mpiexec -n <N> python <basename>.py`"
   ]
  },
  {
   "cell_type": "code",
   "execution_count": null,
   "metadata": {
    "vscode": {
     "languageId": "plaintext"
    }
   },
   "outputs": [],
   "source": [
    "import os\n",
    "import sys\n",
    "\n",
    "sys.path.append(\"../../..\")\n",
    "\n",
    "from pyopensn.mesh import OrthogonalMeshGenerator, PETScGraphPartitioner\n",
    "from pyopensn.context import UseColor, Finalize\n",
    "\n",
    "UseColor(False)"
   ]
  },
  {
   "cell_type": "markdown",
   "metadata": {},
   "source": [
    "## List of Nodes, Mesh GGeneration and Partition\n",
    "We create a list of geometry nodes that are evenly spaced from 0 to +L.\n",
    "These nodes are employed to define block IDs interfaces.\n",
    "\n",
    "We create a list of mesh nodes that are evenly spaced from 0 to +L. These nodes\n",
    "are the standard ones, used to define the vertices of our computational grid."
   ]
  },
  {
   "cell_type": "code",
   "execution_count": null,
   "metadata": {
    "vscode": {
     "languageId": "plaintext"
    }
   },
   "outputs": [],
   "source": [
    "length = 10.\n",
    "n_cells_geo = 10\n",
    "dx_geo = length / n_cells_geo\n",
    "nodes_geo = [i * dx_geo for i in range(n_cells_geo + 1)]\n",
    "\n",
    "n_refinement = 5\n",
    "n_cells = n_cells_geo * n_refinement\n",
    "dx = length / n_cells\n",
    "nodes_msh = [i * dx for i in range(n_cells + 1)]\n",
    "\n",
    "# Setup mesh\n",
    "meshgen = OrthogonalMeshGenerator(\n",
    "    node_sets=[nodes_msh, nodes_msh, nodes_msh],\n",
    "    partitioner=PETScGraphPartitioner(type='parmetis'),\n",
    ")\n",
    "grid = meshgen.Execute()"
   ]
  },
  {
   "cell_type": "markdown",
   "metadata": {},
   "source": [
    "## Material IDs\n",
    "We set all block IDs to a uniform initial value 0 for each cell in the spatial domain.\n",
    "\n",
    "We create a function factory to create a material ID function for a given (i, j, k) triplet.\n",
    "- It returns a two-argument function (mat_id) that checks whether a point pt lies\n",
    "   - between ``nodes[i]`` and ``nodes[i+1]`` in the x-direction,\n",
    "   - between ``nodes[j]`` and ``nodes[j+1]`` in the y-direction,\n",
    "   - and between ``nodes[k]`` and ``nodes[k+1]`` in the z-direction.\n",
    "- If the condition is met, it returns the specified material_id; otherwise, it leaves the current block ID unchanged.\n"
   ]
  },
  {
   "cell_type": "code",
   "execution_count": null,
   "metadata": {
    "vscode": {
     "languageId": "plaintext"
    }
   },
   "outputs": [],
   "source": [
    "grid.SetUniformBlockID(0)\n",
    "\n",
    "def make_mat_id_function(i, j, k, material_id):\n",
    "    \"\"\"\n",
    "    Returns a function that sets the block to 'material_id' if the point 'pt' lies within:\n",
    "    x between nodes[i] and nodes[i+1],\n",
    "    y between nodes[j] and nodes[j+1],\n",
    "    z between nodes[k] and nodes[k+1].\n",
    "    \"\"\"\n",
    "    def mat_id(pt, cur_id):\n",
    "        if nodes_geo[i] < pt.x < nodes_geo[i+1] and \\\n",
    "                nodes_geo[j] < pt.y < nodes_geo[j+1] and \\\n",
    "                nodes_geo[k] < pt.z < nodes_geo[k+1]:\n",
    "            return material_id\n",
    "        return cur_id\n",
    "    return mat_id"
   ]
  },
  {
   "cell_type": "markdown",
   "metadata": {},
   "source": [
    "### Example: List of target blocks, where each entry is a tuple: ((i, j, k), material_id)\n"
   ]
  },
  {
   "cell_type": "code",
   "execution_count": null,
   "metadata": {},
   "outputs": [],
   "source": [
    "target_blocks = [\n",
    "    ((4, 4, 7), 9),  # Block defined by nodes[4] to nodes[5] in all dimensions gets material_id 9.\n",
    "    ((4, 7, 7), 55)   # Another block for demonstration.\n",
    "    ]\n",
    "\n",
    "# Create a list of material ID functions for each target block.\n",
    "mat_id_functions = [make_mat_id_function(i, j, k, material_id)\n",
    "                       for (i, j, k), material_id in target_blocks]\n",
    "\n",
    "# Apply each material ID function to the grid.\n",
    "for func in mat_id_functions:\n",
    "    grid.SetBlockIDFromFunction(func)"
   ]
  },
  {
   "cell_type": "markdown",
   "metadata": {},
   "source": [
    "## Export the mesh\n",
    "We export to vtu format. The resulting mesh partition is shown below\n",
    "![below1](images/ortho_3D_BlockIDs.png)"
   ]
  },
  {
   "cell_type": "code",
   "execution_count": null,
   "metadata": {
    "vscode": {
     "languageId": "plaintext"
    }
   },
   "outputs": [],
   "source": [
    "grid.ExportToPVTU(\"ortho_3D_BlockIDs\")"
   ]
  },
  {
   "cell_type": "markdown",
   "metadata": {},
   "source": [
    "## Finalize (for Jupyter Notebook only)\n",
    "\n",
    "In Python script mode, PyOpenSn automatically handles environment termination. However, this\n",
    "automatic finalization does not occur when running in a Jupyter notebook, so explicit finalization\n",
    "of the environment at the end of the notebook is required. Do not call the finalization in Python\n",
    "script mode, or in console mode.\n",
    "\n",
    "Note that PyOpenSn's finalization must be called before MPI's finalization.\n"
   ]
  },
  {
   "cell_type": "code",
   "execution_count": null,
   "metadata": {
    "vscode": {
     "languageId": "plaintext"
    }
   },
   "outputs": [],
   "source": [
    "from IPython import get_ipython\n",
    "\n",
    "def finalize_env():\n",
    "    Finalize()\n",
    "    MPI.Finalize()\n",
    "\n",
    "ipython_instance = get_ipython()\n",
    "if ipython_instance is not None:\n",
    "    ipython_instance.events.register(\"post_execute\", finalize_env)"
   ]
  }
 ],
 "metadata": {
  "kernelspec": {
   "display_name": "Python 3 (ipykernel)",
   "language": "python",
   "name": "python3"
  },
  "language_info": {
   "codemirror_mode": {
    "name": "ipython",
    "version": 3
   },
   "file_extension": ".py",
   "mimetype": "text/x-python",
   "name": "python",
   "nbconvert_exporter": "python",
   "pygments_lexer": "ipython3",
   "version": "3.13.2"
  }
 },
 "nbformat": 4,
 "nbformat_minor": 4
}
