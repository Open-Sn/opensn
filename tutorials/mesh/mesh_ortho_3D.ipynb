{
 "cells": [
  {
   "cell_type": "markdown",
   "metadata": {},
   "source": [
    "# 3D Orthogonal Grid Generation\n",
    "This is very similar to the previous `2D Orthogonal Grid` tutorial.\n",
    "We use the two partitioners again (KBA and Parmetis).\n",
    "\n",
    "To run the code, simply type: `jupyter nbconvert --to python --execute <basename>.ipynb`.\n",
    "\n",
    "To convert it to a python file (named `<basename>.py`), simply type: `jupyter nbconvert --to python <basename>.ipynb`\n",
    "\n",
    "To run the python file from the terminal, using N processes, simply type: `mpiexec -n <N> python <basename>.py`"
   ]
  },
  {
   "cell_type": "code",
   "execution_count": null,
   "metadata": {
    "vscode": {
     "languageId": "plaintext"
    }
   },
   "outputs": [],
   "source": [
    "import os\n",
    "import sys\n",
    "\n",
    "sys.path.append(\"../../..\")\n",
    "\n",
    "from pyopensn.mesh import OrthogonalMeshGenerator, KBAGraphPartitioner, PETScGraphPartitioner\n",
    "from pyopensn.context import UseColor, Finalize\n",
    "\n",
    "UseColor(False)"
   ]
  },
  {
   "cell_type": "markdown",
   "metadata": {},
   "source": [
    "## List of Nodes\n",
    "First, we create a list of nodes that are evenly spaced from -L/2 to +L/2."
   ]
  },
  {
   "cell_type": "code",
   "execution_count": null,
   "metadata": {
    "vscode": {
     "languageId": "plaintext"
    }
   },
   "outputs": [],
   "source": [
    "length = 2.\n",
    "n_cells = 10\n",
    "dx = length / n_cells\n",
    "nodes = [-length/2 + i * dx for i in range(n_cells + 1)]"
   ]
  },
  {
   "cell_type": "markdown",
   "metadata": {},
   "source": [
    "## Mesh and KBA Partition\n",
    "We use the `OrthogonalMeshGenerator` and pass the list of nodes per dimension.\n",
    "\n",
    "The domain will be partitioned using the `KBAGraphPartitioner` into 8 subdomains and the\n",
    "locations of the plane cuts along x, y, and z need to be specified."
   ]
  },
  {
   "cell_type": "code",
   "execution_count": null,
   "metadata": {
    "vscode": {
     "languageId": "plaintext"
    }
   },
   "outputs": [],
   "source": [
    "meshgen = OrthogonalMeshGenerator(\n",
    "    node_sets=[nodes, nodes, nodes],\n",
    "    partitioner=KBAGraphPartitioner(\n",
    "        nx=2,\n",
    "        ny=2,\n",
    "        nz=2,\n",
    "        xcuts=[0.0],\n",
    "        ycuts=[0.0],\n",
    "        zcuts=[0.0],\n",
    "    ),\n",
    ")\n",
    "grid = meshgen.Execute()"
   ]
  },
  {
   "cell_type": "markdown",
   "metadata": {},
   "source": [
    "## Material IDs\n",
    "When using the in-house `OrthogonalMeshGenerator`, no material IDs are assigned. The user needs\n",
    "to assign material IDs to all cells. Here, we have a homogeneous domain, so we assign a material\n",
    "ID with value 0 for each cell in the spatial domain."
   ]
  },
  {
   "cell_type": "code",
   "execution_count": null,
   "metadata": {
    "vscode": {
     "languageId": "plaintext"
    }
   },
   "outputs": [],
   "source": [
    "grid.SetUniformBlockID(0)"
   ]
  },
  {
   "cell_type": "markdown",
   "metadata": {},
   "source": [
    "## Export the mesh\n",
    "We export to vtu format. The resulting mesh partition is shown below\n",
    "![below1](images/ortho_3D_KBA.png)"
   ]
  },
  {
   "cell_type": "code",
   "execution_count": null,
   "metadata": {
    "vscode": {
     "languageId": "plaintext"
    }
   },
   "outputs": [],
   "source": [
    "grid.ExportToPVTU(\"ortho_3D_KBA\")"
   ]
  },
  {
   "cell_type": "markdown",
   "metadata": {},
   "source": [
    "## Mesh (again) and Parmetis partition\n",
    "Now, we partition the mesh using the Parmetis partitioner, accessed through `PETScGraphPartitioner`."
   ]
  },
  {
   "cell_type": "code",
   "execution_count": null,
   "metadata": {
    "vscode": {
     "languageId": "plaintext"
    }
   },
   "outputs": [],
   "source": [
    "meshgen2 = OrthogonalMeshGenerator(\n",
    "    node_sets=[nodes, nodes, nodes],\n",
    "    partitioner=PETScGraphPartitioner(type='parmetis'),\n",
    ")\n",
    "grid2 = meshgen2.Execute()\n",
    "grid2.SetUniformBlockID(0)"
   ]
  },
  {
   "cell_type": "markdown",
   "metadata": {},
   "source": [
    "## Export the mesh\n",
    "On such a simple regular mesh, both partitioners are giving the same result. The Parmetis partition is shown below\n",
    "![below2](images/ortho_3D_Parmetis.png)"
   ]
  },
  {
   "cell_type": "code",
   "execution_count": null,
   "metadata": {
    "vscode": {
     "languageId": "plaintext"
    }
   },
   "outputs": [],
   "source": [
    "grid2.ExportToPVTU(\"ortho_3D_Parmetis\")"
   ]
  },
  {
   "cell_type": "markdown",
   "metadata": {},
   "source": [
    "## Finalize (for Jupyter Notebook only)\n",
    "\n",
    "In Python script mode, PyOpenSn automatically handles environment termination. However, this\n",
    "automatic finalization does not occur when running in a Jupyter notebook, so explicit finalization\n",
    "of the environment at the end of the notebook is required. Do not call the finalization in Python\n",
    "script mode, or in console mode.\n",
    "\n",
    "Note that PyOpenSn's finalization must be called before MPI's finalization.\n"
   ]
  },
  {
   "cell_type": "code",
   "execution_count": null,
   "metadata": {
    "vscode": {
     "languageId": "plaintext"
    }
   },
   "outputs": [],
   "source": [
    "from IPython import get_ipython\n",
    "\n",
    "def finalize_env():\n",
    "    Finalize()\n",
    "    MPI.Finalize()\n",
    "\n",
    "ipython_instance = get_ipython()\n",
    "if ipython_instance is not None:\n",
    "    ipython_instance.events.register(\"post_execute\", finalize_env)"
   ]
  }
 ],
 "metadata": {
  "kernelspec": {
   "display_name": "Python 3 (ipykernel)",
   "language": "python",
   "name": "python3"
  },
  "language_info": {
   "codemirror_mode": {
    "name": "ipython",
    "version": 3
   },
   "file_extension": ".py",
   "mimetype": "text/x-python",
   "name": "python",
   "nbconvert_exporter": "python",
   "pygments_lexer": "ipython3",
   "version": "3.13.2"
  }
 },
 "nbformat": 4,
 "nbformat_minor": 4
}
