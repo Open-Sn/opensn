{
 "cells": [
  {
   "cell_type": "markdown",
   "metadata": {},
   "source": [
    "# Product Quadrature\n",
    "This set uses a Gauss-Legendre quadrature along the polar angle, and a Gauss-Chebyshev quadrature along the azimuthal angle.\n",
    "\n",
    "To run the code, simply type: `jupyter nbconvert --to python --execute <basename>.ipynb`.\n",
    "\n",
    "To convert it to a python file (named `<basename>.py`), simply type: `jupyter nbconvert --to python <basename>.ipynb`"
   ]
  },
  {
   "cell_type": "code",
   "execution_count": null,
   "metadata": {
    "vscode": {
     "languageId": "plaintext"
    }
   },
   "outputs": [],
   "source": [
    "import os\n",
    "import sys\n",
    "import numpy as np\n",
    "\n",
    "sys.path.append(\"../../..\")\n",
    "\n",
    "from pyopensn.aquad import GLCProductQuadrature2DXY\n",
    "from pyopensn.context import UseColor, Finalize\n",
    "\n",
    "UseColor(False)"
   ]
  },
  {
   "cell_type": "markdown",
   "metadata": {},
   "source": [
    "## Quadrature parameters\n",
    "\n",
    "Here, we use a Product Quadrature for two-dimensional geometries.\n",
    "\n",
    "We pick a quadrature set with 4 polar angles (whose cosines are between -1 and 1), and 12 azimuthal angles (between 0 and $2\\pi$).\n",
    "Hence, in 2D, we will have a total of $2 \\times 12 = 24$ directions."
   ]
  },
  {
   "cell_type": "code",
   "execution_count": null,
   "metadata": {
    "vscode": {
     "languageId": "plaintext"
    }
   },
   "outputs": [],
   "source": [
    "# Create a 2D angular quadrature with 4 polar and 12 azimuthal angles.\n",
    "pquad = GLCProductQuadrature2DXY(4, 12)"
   ]
  },
  {
   "cell_type": "markdown",
   "metadata": {},
   "source": [
    "## Retrieve directions"
   ]
  },
  {
   "cell_type": "code",
   "execution_count": null,
   "metadata": {},
   "outputs": [],
   "source": [
    "vec3_omegas = pquad.omegas\n",
    "\n",
    "n_directions = len(vec3_omegas)\n",
    "print('number of directions =',n_directions)\n",
    "omegas = np.zeros((n_directions,3))\n",
    "\n",
    "for d in range(n_directions):\n",
    "    omegas[d,:] = [vec3_omegas[d].x, vec3_omegas[d].y, vec3_omegas[d].z]\n",
    "\n",
    "dim = 2"
   ]
  },
  {
   "cell_type": "markdown",
   "metadata": {},
   "source": [
    "## Create a function to plot the quadrature"
   ]
  },
  {
   "cell_type": "code",
   "execution_count": null,
   "metadata": {},
   "outputs": [],
   "source": [
    "import matplotlib.pyplot as plt\n",
    "from matplotlib.patches import FancyArrowPatch\n",
    "from mpl_toolkits.mplot3d import proj3d\n",
    "import itertools\n",
    "\n",
    "colors = itertools.cycle([\"r\", \"g\", \"b\", \"k\", \"m\", \"c\", \"y\", \"crimson\"])\n",
    "\n",
    "# Create figure with options\n",
    "fig = plt.figure(dpi=150)\n",
    "ax = fig.add_subplot(111, projection='3d')\n",
    "\n",
    "# Transparent sphere data\n",
    "u = np.linspace(0, 2 * np.pi, 100)\n",
    "v = np.linspace(0, np.pi, 100)\n",
    "x = np.outer(np.cos(u), np.sin(v))\n",
    "y = np.outer(np.sin(u), np.sin(v))\n",
    "z = np.outer(np.ones(np.size(u)), np.cos(v))\n",
    "# Plot the surface\n",
    "ax.plot_surface(x, y, z, color='b', alpha=0.1)\n",
    "\n",
    "# Create a custom 3D arrow class\n",
    "class Arrow3D(FancyArrowPatch):\n",
    "    def __init__(self, xs, ys, zs, *args, **kwargs):\n",
    "        # Initialize with dummy 2D points\n",
    "        super().__init__((0, 0), (0, 0), *args, **kwargs)\n",
    "        self._verts3d = xs, ys, zs\n",
    "\n",
    "    def do_3d_projection(self, renderer=None):\n",
    "        # Project 3D coordinates to 2D using the axes projection matrix\n",
    "        xs3d, ys3d, zs3d = self._verts3d\n",
    "        xs, ys, zs = proj3d.proj_transform(xs3d, ys3d, zs3d, self.axes.get_proj())\n",
    "        self.set_positions((xs[0], ys[0]), (xs[1], ys[1]))\n",
    "        # Return a numerical depth value (for example, the mean of the projected z-values)\n",
    "        return np.mean(zs)\n",
    "\n",
    "    def draw(self, renderer):\n",
    "        # Perform projection using the axes' projection matrix\n",
    "        xs3d, ys3d, zs3d = self._verts3d\n",
    "        xs, ys, zs = proj3d.proj_transform(xs3d, ys3d, zs3d, self.axes.get_proj())\n",
    "        self.set_positions((xs[0], ys[0]), (xs[1], ys[1]))\n",
    "        return super().draw(renderer)\n",
    "\n",
    "\n",
    "start = -1.0\n",
    "\n",
    "# Create axes arrows\n",
    "a = Arrow3D(\n",
    "    [start, 1.1],\n",
    "    [0, 0],\n",
    "    [0, 0],\n",
    "    mutation_scale=10,\n",
    "    lw=0.5,\n",
    "    arrowstyle=\"-|>\",\n",
    "    color=\"darkorange\",\n",
    ")\n",
    "ax.add_artist(a)\n",
    "\n",
    "a = Arrow3D(\n",
    "    [0, 0],\n",
    "    [start, 1.1],\n",
    "    [0, 0],\n",
    "    mutation_scale=10,\n",
    "    lw=0.5,\n",
    "    arrowstyle=\"-|>\",\n",
    "    color=\"darkorange\",\n",
    ")\n",
    "ax.add_artist(a)\n",
    "\n",
    "a = Arrow3D(\n",
    "    [0, 0],\n",
    "    [0, 0],\n",
    "    [start, 1.1],\n",
    "    mutation_scale=10,\n",
    "    lw=0.5,\n",
    "    arrowstyle=\"-|>\",\n",
    "    color=\"darkorange\",\n",
    ")\n",
    "ax.add_artist(a)\n",
    "\n",
    "# The following code plots quadrature directions.\n",
    "# Variables 'dim', 'n_directions', and 'omegas' must be defined appropriately elsewhere.\n",
    "d_skip = 0\n",
    "n_octants = int(2 ** dim)\n",
    "n_dir_per_oct = int(n_directions / n_octants)\n",
    "print(\"n octants=\", n_octants, \"ndir per octant=\", n_dir_per_oct)\n",
    "for oc in range(n_octants):\n",
    "    clr = next(colors)\n",
    "    d_skip = oc * n_dir_per_oct\n",
    "    for d in range(n_dir_per_oct):\n",
    "        om = omegas[d + d_skip, :]\n",
    "        ax.plot3D([0, om[0]], [0, om[1]], [0, om[2]], c=clr, linewidth=0.75)\n",
    "\n",
    "mu = omegas[:, -1]\n",
    "polar_level = np.unique(mu)\n",
    "for r in polar_level:\n",
    "    x = np.sqrt(1 - r ** 2) * np.cos(u)\n",
    "    y = np.sqrt(1 - r ** 2) * np.sin(u)\n",
    "    z = r * np.ones_like(u)\n",
    "    ax.plot3D(x, y, z, 'grey', linestyle=\"dashed\", linewidth=0.5)\n",
    "\n",
    "ax.view_init(30, 70)\n",
    "\n",
    "# uncomment this line for interactive plot\n",
    "# plt.show()"
   ]
  },
  {
   "cell_type": "markdown",
   "metadata": {},
   "source": [
    "![product_quadrature](images/pGLC.png)"
   ]
  },
  {
   "cell_type": "markdown",
   "metadata": {},
   "source": [
    "## Finalize (for Jupyter Notebook only)\n",
    "\n",
    "In Python script mode, PyOpenSn automatically handles environment termination. However, this\n",
    "automatic finalization does not occur when running in a Jupyter notebook, so explicit finalization\n",
    "of the environment at the end of the notebook is required. Do not call the finalization in Python\n",
    "script mode, or in console mode.\n",
    "\n",
    "Note that PyOpenSn's finalization must be called before MPI's finalization.\n"
   ]
  },
  {
   "cell_type": "code",
   "execution_count": null,
   "metadata": {
    "vscode": {
     "languageId": "plaintext"
    }
   },
   "outputs": [],
   "source": [
    "from IPython import get_ipython\n",
    "\n",
    "def finalize_env():\n",
    "    Finalize()\n",
    "    MPI.Finalize()\n",
    "\n",
    "ipython_instance = get_ipython()\n",
    "if ipython_instance is not None:\n",
    "    ipython_instance.events.register(\"post_execute\", finalize_env)"
   ]
  }
 ],
 "metadata": {
  "kernelspec": {
   "display_name": "Python 3 (ipykernel)",
   "language": "python",
   "name": "python3"
  },
  "language_info": {
   "codemirror_mode": {
    "name": "ipython",
    "version": 3
   },
   "file_extension": ".py",
   "mimetype": "text/x-python",
   "name": "python",
   "nbconvert_exporter": "python",
   "pygments_lexer": "ipython3",
   "version": "3.13.2"
  }
 },
 "nbformat": 4,
 "nbformat_minor": 4
}
