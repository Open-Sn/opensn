{
 "cells": [
  {
   "cell_type": "markdown",
   "metadata": {},
   "source": [
    "# A First Adjoint Example\n",
    "\n",
    "In this example we will explore leveraging an adjoint formulation of the linear Boltzmann equations for computing response functions in a desired region of interest (RoI).\n",
    "\n",
    "The following is a complete transport simulation example. Each element of the simulation can be described in the sections below:\n",
    "- [Prerequisites](#prerequisites)\n",
    "- [Mesh](#mesh)\n",
    "- [Geometry](#Geometry)\n",
    "    - [Material IDs](#material-ids)\n",
    "    - [Cross Sections](#cross-sections)\n",
    "- [Solver](#Solver)\n",
    "    - [Angular Quadrature](#angular-quadrature)\n",
    "    - [Group Structure](#group-structure)\n",
    "    - [Discrete Ordinates Problem](#discrete-ordinates-problem)\n",
    "    - [Execute](#execute)\n",
    "    - [Post Processing](#post-processing)\n",
    "        - [Volumetric Field Function](#volumetric-field-function)\n",
    "        - [Linear Field Function](#linear-field-function)\n",
    "- [Adjoint Solver](#adjoint-solver)\n",
    "    - [Adjoint Source](#adjoint-source)\n",
    "    - [Adjoint Options](#adjoint-options)\n",
    "    - [Post Processing](#post-processing)\n",
    "        - [Detector Response](#detector-response)\n",
    "        - [Linear Field Function](#linear-field-function)\n",
    "- [Solution](#solution)\n"
   ]
  },
  {
   "cell_type": "markdown",
   "metadata": {},
   "source": [
    "---"
   ]
  },
  {
   "cell_type": "markdown",
   "metadata": {},
   "source": [
    "## Prerequisites\n",
    "\n",
    "Before running this example, make sure that the **Python module of OpenSn** was installed.\n",
    "\n",
    "### Converting and Running this Notebook from the Terminal\n",
    "To run this notebook from the terminal, simply type:\n",
    "\n",
    "`jupyter nbconvert --to python --execute adjoint_example.ipynb`.\n",
    "\n",
    "To run this notebook in parallel (for example, using 4 processes), simply type:\n",
    "\n",
    "`mpiexec -n 4 jupyter nbconvert --to python --execute adjoint_example.ipynb`."
   ]
  },
  {
   "cell_type": "code",
   "execution_count": 1,
   "metadata": {},
   "outputs": [
    {
     "name": "stdout",
     "output_type": "stream",
     "text": [
      "Running the first LBS adjoint example with 1 MPI processors.\n"
     ]
    }
   ],
   "source": [
    "from mpi4py import MPI\n",
    "size = MPI.COMM_WORLD.size\n",
    "rank = MPI.COMM_WORLD.rank\n",
    "barrier = MPI.COMM_WORLD.barrier\n",
    "\n",
    "if rank == 0:\n",
    "    print(f\"Running the first LBS adjoint example with {size} MPI processors.\")"
   ]
  },
  {
   "cell_type": "markdown",
   "metadata": {},
   "source": [
    "### Import Requirements\n",
    "\n",
    "Import required classes and functions from the Python interface of OpenSn. Make sure that the path\n",
    "to PyOpenSn is appended to Python's PATH."
   ]
  },
  {
   "cell_type": "code",
   "execution_count": 2,
   "metadata": {},
   "outputs": [
    {
     "name": "stdout",
     "output_type": "stream",
     "text": [
      "OpenSn version 0.0.1\n",
      "2025-09-20 02:04:31 Running OpenSn with 1 processes.\n",
      "\n"
     ]
    }
   ],
   "source": [
    "import os\n",
    "import sys\n",
    "import numpy as np\n",
    "\n",
    "# assuming that the execute dir is the notebook dir\n",
    "# this line is not necessary when PyOpenSn is installed using pip\n",
    "sys.path.append(\"../../..\")\n",
    "\n",
    "from pyopensn.mesh import OrthogonalMeshGenerator\n",
    "from pyopensn.xs import MultiGroupXS\n",
    "from pyopensn.source import PointSource, VolumetricSource\n",
    "from pyopensn.aquad import GLProductQuadrature1DSlab\n",
    "from pyopensn.solver import DiscreteOrdinatesProblem, SteadyStateSourceSolver\n",
    "from pyopensn.response import ResponseEvaluator\n",
    "from pyopensn.math import Vector3\n",
    "from pyopensn.fieldfunc import FieldFunctionInterpolationVolume, \\\n",
    "                               FieldFunctionInterpolationLine, \\\n",
    "                               FieldFunctionGridBased\n",
    "from pyopensn.logvol import RPPLogicalVolume\n",
    "from pyopensn.context import UseColor, Finalize"
   ]
  },
  {
   "cell_type": "markdown",
   "metadata": {},
   "source": [
    "---"
   ]
  },
  {
   "cell_type": "markdown",
   "metadata": {},
   "source": [
    "## Mesh\n",
    "Here, we will use the in-house orthogonal mesh generator for a simple Cartesian grid. We first create a list of nodes in the Z direction."
   ]
  },
  {
   "cell_type": "code",
   "execution_count": 3,
   "metadata": {},
   "outputs": [],
   "source": [
    "N = 1000\n",
    "L = 10.0\n",
    "ds = L / N\n",
    "nodesz = []\n",
    "for i in range(N + 1):\n",
    "    nodesz.append(i * ds)"
   ]
  },
  {
   "cell_type": "markdown",
   "metadata": {},
   "source": [
    "### Orthogonal Mesh Generation\n",
    "We use the `OrthogonalMeshGenerator` and pass the list of nodes per dimension. Here, we pass our lsit of nodes for the z direction creating a 1D geometry of side length 10 cm with 100 square cells. "
   ]
  },
  {
   "cell_type": "code",
   "execution_count": 4,
   "metadata": {},
   "outputs": [
    {
     "name": "stdout",
     "output_type": "stream",
     "text": [
      "[0]  Done checking cell-center-to-face orientations\n",
      "[0]  00:00:00.2 Establishing cell connectivity.\n",
      "[0]  00:00:00.2 Vertex cell subscriptions complete.\n",
      "[0]  00:00:00.2 Surpassing cell 100 of 1000 (10%)\n",
      "[0]  00:00:00.2 Surpassing cell 200 of 1000 (20%)\n",
      "[0]  00:00:00.2 Surpassing cell 301 of 1000 (30%)\n",
      "[0]  00:00:00.2 Surpassing cell 400 of 1000 (40%)\n",
      "[0]  00:00:00.2 Surpassing cell 500 of 1000 (50%)\n",
      "[0]  00:00:00.2 Surpassing cell 601 of 1000 (60%)\n",
      "[0]  00:00:00.2 Surpassing cell 701 of 1000 (70%)\n",
      "[0]  00:00:00.2 Surpassing cell 800 of 1000 (80%)\n",
      "[0]  00:00:00.2 Surpassing cell 900 of 1000 (90%)\n",
      "[0]  00:00:00.2 Surpassing cell 1000 of 1000 (100%)\n",
      "[0]  00:00:00.2 Establishing cell boundary connectivity.\n",
      "[0]  00:00:00.2 Done establishing cell connectivity.\n",
      "[0]  Number of cells per partition (max,min,avg) = 1000,1000,1000\n",
      "[0]  \n",
      "[0]  Mesh statistics:\n",
      "[0]    Global cell count             : 1000\n",
      "[0]    Local cell count (avg,max,min): 1000,1000,1000\n",
      "[0]    Ghost-to-local ratio (avg)    : 0\n",
      "[0]  \n"
     ]
    }
   ],
   "source": [
    "meshgen = OrthogonalMeshGenerator( node_sets=[nodesz] )\n",
    "grid = meshgen.Execute()"
   ]
  },
  {
   "cell_type": "markdown",
   "metadata": {},
   "source": [
    "---"
   ]
  },
  {
   "cell_type": "markdown",
   "metadata": {},
   "source": [
    "## **Geometry**\n",
    "### Material IDs\n",
    "In this example, we define a source-driven detector response problem consisting of two regions: a detector and a source in vacuum. The geometry of the model is shown below.\n",
    "\n",
    "<img src=\"images/adjoint_geom.png\"/>\n",
    "\n",
    "Firstly, when using the in-house `OrthogonalMeshGenerator`, no material IDs are assigned. The user needs to assign material IDs to all cells. We will begin by assigning the background material ID with a value of 0."
   ]
  },
  {
   "cell_type": "code",
   "execution_count": 5,
   "metadata": {},
   "outputs": [
    {
     "name": "stdout",
     "output_type": "stream",
     "text": [
      "[0]  00:00:00.3 Done setting block id 0 to all cells\n"
     ]
    }
   ],
   "source": [
    "grid.SetUniformBlockID(0)"
   ]
  },
  {
   "cell_type": "markdown",
   "metadata": {},
   "source": [
    "Next we will assign material IDs for the source and detector. When assigning material IDs via logical volumes the IDs for each cell is overriden by the most recent assignment. That is to say, assigning a material ID of 1 to any region in our domain will override the previously set ID to those cells. "
   ]
  },
  {
   "cell_type": "code",
   "execution_count": 6,
   "metadata": {},
   "outputs": [],
   "source": [
    "source = RPPLogicalVolume(\n",
    "            infx=True,\n",
    "            infy=True,\n",
    "            zmin=2.0, zmax=4.0,\n",
    ")\n",
    "grid.SetBlockIDFromLogicalVolume(source, 1, True)\n",
    "\n",
    "det = RPPLogicalVolume(\n",
    "            infx=True,\n",
    "            infy=True,\n",
    "            zmin=7.75, zmax=8.25,\n",
    ")\n",
    "grid.SetBlockIDFromLogicalVolume(det, 2, True)"
   ]
  },
  {
   "cell_type": "markdown",
   "metadata": {},
   "source": [
    "### Cross Sections\n",
    "We generate one-group cross sections using OpenSn’s `CreateSimpleOneGroup` method. In this tutorial, the background is set to vacuum. For the source region, we assign a total cross section $\\Sigma_t = 1.0$ with a scattering ratio $c = \\frac{\\Sigma_{s,0}}{\\Sigma_t} = 1.0$, making it a pure scatterer. The detector region is given a total cross section $\\Sigma_t = 0.6$ and a scattering ratio of 0.0, making it a pure absorber."
   ]
  },
  {
   "cell_type": "code",
   "execution_count": 7,
   "metadata": {},
   "outputs": [
    {
     "name": "stdout",
     "output_type": "stream",
     "text": [
      "[0]  *** WARNING ***  Negative transport cross section found for group 0 in call to ComputeDiffusionParameters. sigma_t=0 sigma_1=0. Setting sigma_1=0, sigma_tr=sigma_t for this group.\n"
     ]
    }
   ],
   "source": [
    "xs_bkgrnd = MultiGroupXS()\n",
    "xs_bkgrnd.CreateSimpleOneGroup(sigma_t=0.0, c=0.0)\n",
    "\n",
    "xs_src = MultiGroupXS()\n",
    "xs_src.CreateSimpleOneGroup(sigma_t=1.0, c=1.0)\n",
    "\n",
    "sig_det = 0.6\n",
    "xs_det = MultiGroupXS()\n",
    "xs_det.CreateSimpleOneGroup(sigma_t=sig_det, c=0.0)\n",
    "\n",
    "xsecs = [{\"block_ids\": [0], \"xs\": xs_bkgrnd},\n",
    "         {\"block_ids\": [1], \"xs\": xs_src},\n",
    "         {\"block_ids\": [2], \"xs\": xs_det}]"
   ]
  },
  {
   "cell_type": "markdown",
   "metadata": {},
   "source": [
    "---"
   ]
  },
  {
   "cell_type": "markdown",
   "metadata": {},
   "source": [
    "## Solver"
   ]
  },
  {
   "cell_type": "markdown",
   "metadata": {},
   "source": [
    "### Angular Quadrature\n",
    "Since we are solving a 1D problem we will create Gauss-Legendre Product Quadrature for a 1D slab. In this case we will use 512 polar angles creating a 1D angular quadrature in $\\mu$ with a scattering order of 0."
   ]
  },
  {
   "cell_type": "code",
   "execution_count": 8,
   "metadata": {},
   "outputs": [
    {
     "name": "stdout",
     "output_type": "stream",
     "text": [
      "[0]  Using 1D Slab Gauss–Legendre product quadrature with 512 angles and weight sum of 1.00\n"
     ]
    }
   ],
   "source": [
    "pquad = GLProductQuadrature1DSlab(n_polar=512, \n",
    "                                  scattering_order=0)"
   ]
  },
  {
   "cell_type": "markdown",
   "metadata": {},
   "source": [
    "### Group Structure"
   ]
  },
  {
   "cell_type": "code",
   "execution_count": 9,
   "metadata": {},
   "outputs": [],
   "source": [
    "num_groups = 1\n",
    "grpsets = [\n",
    "    {\n",
    "        \"groups_from_to\": (0, num_groups-1),\n",
    "        \"angular_quadrature\": pquad,\n",
    "        \"inner_linear_method\": \"petsc_gmres\",\n",
    "        \"l_abs_tol\": 1.0e-6,\n",
    "        \"l_max_its\": 300,\n",
    "        \"gmres_restart_interval\": 100,\n",
    "    },\n",
    "]"
   ]
  },
  {
   "cell_type": "markdown",
   "metadata": {},
   "source": [
    "### Volumetric Source\n",
    "For the volumetric source, we assign a source strength of 1.0 per unit length to material ID 1. "
   ]
  },
  {
   "cell_type": "code",
   "execution_count": 10,
   "metadata": {},
   "outputs": [],
   "source": [
    "Q = 1.0\n",
    "dL = 2.0\n",
    "vol_src = VolumetricSource(block_ids=[1], group_strength=[Q/dL])"
   ]
  },
  {
   "cell_type": "markdown",
   "metadata": {},
   "source": [
    "### Discrete Ordinates Problem\n",
    "For establishing the discrete ordinate problem, we provide;\n",
    "+ mesh : The mesh\n",
    "+ num_groups : The number of energy groups\n",
    "+ groupsets : The groupsets block\n",
    "+ xs_map : Cross section map\n",
    "+ scattering_order : The scattering order\n",
    "+ volumetric_sources : The volumetric source\n",
    "+ boundary_conditions : The boundary conditions\n",
    "\n",
    "**Note: The parameters for the `DiscreteOrdinatesProblem` are not required to be in this order.**"
   ]
  },
  {
   "cell_type": "code",
   "execution_count": 11,
   "metadata": {},
   "outputs": [],
   "source": [
    "phys = DiscreteOrdinatesProblem(\n",
    "    mesh=grid,\n",
    "    num_groups=num_groups,\n",
    "    groupsets=grpsets,\n",
    "    xs_map=xsecs,\n",
    "    scattering_order=0,\n",
    "    volumetric_sources = [vol_src],\n",
    "    boundary_conditions=[\n",
    "        {\"name\": \"zmin\", \"type\": \"vacuum\"},\n",
    "        {\"name\": \"zmax\", \"type\": \"vacuum\"}\n",
    "    ],\n",
    ")"
   ]
  },
  {
   "cell_type": "markdown",
   "metadata": {},
   "source": [
    "### Execute\n",
    "We then create the physics solver, initialize it, and execute it."
   ]
  },
  {
   "cell_type": "code",
   "execution_count": 12,
   "metadata": {},
   "outputs": [
    {
     "name": "stdout",
     "output_type": "stream",
     "text": [
      "[0]  \n",
      "[0]  Initializing LBS SteadyStateSourceSolver with name: LBSDiscreteOrdinatesProblem\n",
      "[0]  \n",
      "[0]  Scattering order    : 0\n",
      "[0]  Number of Groups    : 1\n",
      "[0]  Number of Group sets: 1\n",
      "[0]  \n",
      "[0]  ***** Groupset 0 *****\n",
      "[0]  Groups:\n",
      "[0]      0 \n",
      "[0]  \n",
      "[0]  Initializing spatial discretization.\n",
      "[0]  Computing unit integrals.\n",
      "[0]  Ghost cell unit cell-matrix ratio: 0%\n",
      "[0]  Cell matrices computed.\n",
      "[0]  Initializing parallel arrays. G=1 M=1\n",
      "[0]  Done with parallel arrays.\n",
      "[0]  Volumetric source #0 has 200 total subscribing cells.\n",
      "[0]  00:00:00.7 Initializing sweep datastructures.\n",
      "[0]  00:00:00.7 Done initializing sweep datastructures.\n",
      "[0]  00:00:00.7 Initialized angle aggregation.\n",
      "[0]  Initializing WGS and AGS solvers\n"
     ]
    }
   ],
   "source": [
    "ss_solver = SteadyStateSourceSolver(problem=phys)\n",
    "ss_solver.Initialize()"
   ]
  },
  {
   "cell_type": "markdown",
   "metadata": {},
   "source": [
    "Note: In this tutorial we have decided to execute the linear Boltzmann solver in addition to the adjoint solver to illustrate their duality. It is not necessary to execute the standard linear Boltzmann solver to use the adjoint solver. "
   ]
  },
  {
   "cell_type": "code",
   "execution_count": 13,
   "metadata": {},
   "outputs": [
    {
     "name": "stdout",
     "output_type": "stream",
     "text": [
      "[0]  Total number of angular unknowns: 1024000\n",
      "[0]  Number of lagged angular unknowns: 0(0%)\n",
      "[0]  \n",
      "[0]  \n",
      "[0]  ********** Solving groupset 0 with PETSC_GMRES\n",
      "[0]  \n",
      "[0]  Quadrature number of angles: 512\n",
      "[0]  Groups 0 0\n",
      "[0]  \n",
      "[0]  00:00:00.7 Computing b\n",
      "[0]  00:00:00.8 WGS groups [0-0] Iteration     0 Residual         1\n",
      "[0]  00:00:00.8 WGS groups [0-0] Iteration     1 Residual   0.17567\n",
      "[0]  00:00:00.9 WGS groups [0-0] Iteration     2 Residual 0.0127995\n",
      "[0]  00:00:00.9 WGS groups [0-0] Iteration     3 Residual 0.000713653\n",
      "[0]  00:00:01.0 WGS groups [0-0] Iteration     4 Residual 3.29238e-05\n",
      "[0]  00:00:01.1 WGS groups [0-0] Iteration     5 Residual 1.29272e-06\n",
      "[0]  00:00:01.1 WGS groups [0-0] Iteration     6 Residual 4.406e-08 CONVERGED\n",
      "[0]  \n",
      "[0]  \n",
      "[0]         Average sweep time (s):        0.05656\n",
      "[0]         Sweep Time/Unknown (ns):       55.2343\n",
      "[0]         Number of unknowns per sweep:  1024000\n",
      "[0]  \n"
     ]
    }
   ],
   "source": [
    "ss_solver.Execute()"
   ]
  },
  {
   "cell_type": "markdown",
   "metadata": {},
   "source": [
    "### Post Processing\n",
    "#### Volumetric Field Function\n",
    "\n",
    "With the solver executed, we now create a `FieldFunction`. In OpenSn we define a `FieldFunction` for the response we will like to calculate. In this case we are looking to compute the total $He^3$ absorption reaction rate in our detector: \n",
    "\n",
    "$$\n",
    "\\text{QoI} = \\text{RR}(\\mathcal{D}) = \\int_\\mathcal{D} d^3r \\, \\int_{(4\\pi)} d\\Omega \\, \\sigma_{det}(\\vec{r}) \\psi(\\vec{r},\\vec\\Omega)  = \\int_\\mathcal{D} d^3r \\, \\sigma_{det}(\\vec{r}) \\phi(\\vec{r}) \n",
    "$$\n",
    "\n",
    "Thus, in OpenSn we will generate a scalar field function using `GetScalarFieldFunctionList` with a `sum` over the RoI. "
   ]
  },
  {
   "cell_type": "code",
   "execution_count": 14,
   "metadata": {},
   "outputs": [
    {
     "name": "stdout",
     "output_type": "stream",
     "text": [
      "Forward Total Flux : 3.321548e-01\n",
      "Forward Total Response : 1.992929e-01\n"
     ]
    }
   ],
   "source": [
    "fflist = phys.GetScalarFieldFunctionList(only_scalar_flux=True)\n",
    "ffvol = FieldFunctionInterpolationVolume()\n",
    "ffvol.SetOperationType(\"sum\")\n",
    "ffvol.SetLogicalVolume(det)\n",
    "ffvol.AddFieldFunction(fflist[0])\n",
    "ffvol.Initialize()\n",
    "ffvol.Execute()\n",
    "\n",
    "fwd_flux = ffvol.GetValue()\n",
    "fwd_resp = sig_det*fwd_flux\n",
    "\n",
    "if rank == 0:\n",
    "    print(f\"{'Forward Total Flux :'} {fwd_flux:.6e}\")\n",
    "    print(f\"{'Forward Total Response :'} {fwd_resp:.6e}\")\n"
   ]
  },
  {
   "cell_type": "markdown",
   "metadata": {},
   "source": [
    "We can also export the scalar flux, $\\phi(x)$, to a .vtu file using ``ExportMultipleToPVTU``."
   ]
  },
  {
   "cell_type": "code",
   "execution_count": 15,
   "metadata": {},
   "outputs": [
    {
     "name": "stdout",
     "output_type": "stream",
     "text": [
      "[0]  Exporting field functions to PVTU with file base \"Flux/fwdflux_p\"\n",
      "[0]  Done exporting field functions to PVTU.\n"
     ]
    }
   ],
   "source": [
    "FFGrid = FieldFunctionGridBased\n",
    "FFGrid.ExportMultipleToPVTU([fflist[0]], \"Flux/fwdflux_p\")"
   ]
  },
  {
   "cell_type": "markdown",
   "metadata": {},
   "source": [
    "### Linear Field Function\n",
    "To save the scalar flux along a line segment of the problem we use `FieldFunctionInterpolationLine()`. "
   ]
  },
  {
   "cell_type": "code",
   "execution_count": 16,
   "metadata": {},
   "outputs": [
    {
     "name": "stdout",
     "output_type": "stream",
     "text": [
      "[0]  Exported CSV file for field func \"phi_g000_m00\" to \"Flux/detector_phi_g000_m00.csv\"\n"
     ]
    }
   ],
   "source": [
    "for g in range(num_groups):\n",
    "    # Linear Field Function\n",
    "    ffline = FieldFunctionInterpolationLine()\n",
    "    ffline.SetInitialPoint(Vector3(0.0, 0.0, 0.0))\n",
    "    ffline.SetFinalPoint(Vector3(0.0, 0.0, 10.0))\n",
    "    ffline.SetNumberOfPoints(1000)\n",
    "    ffline.AddFieldFunction(fflist[0])\n",
    "    ffline.Initialize()\n",
    "    ffline.Execute()\n",
    "    ffline.ExportToCSV(\"Flux/detector\")"
   ]
  },
  {
   "cell_type": "markdown",
   "metadata": {},
   "source": [
    "---"
   ]
  },
  {
   "cell_type": "markdown",
   "metadata": {},
   "source": [
    "## Adjoint Solver\n",
    "### Adjoint Source\n",
    "\n",
    "To solve the 1D detector response using the adjoint operator, we begin by defining the adjoint source $q^{\\dagger}$ over the detector volume with a source strength of 1.0. By default, adjoint sources are distributed isotropically in angle across the source domain."
   ]
  },
  {
   "cell_type": "code",
   "execution_count": 17,
   "metadata": {},
   "outputs": [],
   "source": [
    "adj_src = VolumetricSource(logical_volume=det, group_strength=[1.0])"
   ]
  },
  {
   "cell_type": "markdown",
   "metadata": {},
   "source": [
    "### Adjoint Options \n",
    "For executing the adjoint solver there are two options we must re-assign;\n",
    "+ A toggle for the adjoint, default is False.\n",
    "+ Updating the volumetric sources.\n",
    "\n",
    "Note: Once the adjoint data has been saved locally you do not need to run `Execute` to run the response evaluator. Pay close attention to the `ResponseEvaluator`."
   ]
  },
  {
   "cell_type": "code",
   "execution_count": 18,
   "metadata": {},
   "outputs": [
    {
     "name": "stdout",
     "output_type": "stream",
     "text": [
      "[0]  Volumetric source #1 has 50 total subscribing cells.\n",
      "[0]  \n",
      "[0]  \n",
      "[0]  ********** Solving groupset 0 with PETSC_GMRES\n",
      "[0]  \n",
      "[0]  Quadrature number of angles: 512\n",
      "[0]  Groups 0 0\n",
      "[0]  \n",
      "[0]  00:00:01.3 Computing b\n",
      "[0]  00:00:01.4 WGS groups [0-0] Iteration     0 Residual         1\n",
      "[0]  00:00:01.4 WGS groups [0-0] Iteration     1 Residual  0.106629\n",
      "[0]  00:00:01.5 WGS groups [0-0] Iteration     2 Residual 0.0450525\n",
      "[0]  00:00:01.5 WGS groups [0-0] Iteration     3 Residual 0.0184022\n",
      "[0]  00:00:01.6 WGS groups [0-0] Iteration     4 Residual 0.00336001\n",
      "[0]  00:00:01.7 WGS groups [0-0] Iteration     5 Residual 0.000388187\n",
      "[0]  00:00:01.7 WGS groups [0-0] Iteration     6 Residual 3.50983e-05\n",
      "[0]  00:00:01.8 WGS groups [0-0] Iteration     7 Residual 2.65622e-06\n",
      "[0]  00:00:01.8 WGS groups [0-0] Iteration     8 Residual 1.73704e-07 CONVERGED\n",
      "[0]  \n",
      "[0]  \n",
      "[0]         Average sweep time (s):        0.0584055\n",
      "[0]         Sweep Time/Unknown (ns):       57.0367\n",
      "[0]         Number of unknowns per sweep:  1024000\n",
      "[0]  \n"
     ]
    }
   ],
   "source": [
    "phys.SetOptions(adjoint = True)\n",
    "phys.SetVolumetricSources(clear_volumetric_sources = True)\n",
    "phys.SetVolumetricSources(volumetric_sources = [adj_src]) \n",
    "ss_solver.Execute()"
   ]
  },
  {
   "cell_type": "markdown",
   "metadata": {},
   "source": [
    "### Post Processing\n",
    "#### Detector Response\n",
    "\n",
    "When evaluating response functions via the adjoint its efficiency derives from having access to the adjoint solution $\\phi^{\\dagger}$. For this, we export the adjoint flux moments to a .h5 file using `WriteFluxMoments`. The adjoint data is then saved to a location of our choosing.  "
   ]
  },
  {
   "cell_type": "code",
   "execution_count": 19,
   "metadata": {},
   "outputs": [
    {
     "name": "stdout",
     "output_type": "stream",
     "text": [
      "[0]  Writing flux moments to /home/jason/Documents/Work/OpenSn/opensn-jay/doc/source/tutorials/lbs/primer/Data/adjflux_p\n"
     ]
    }
   ],
   "source": [
    "data_dir = os.getcwd()+\"/Data\"\n",
    "os.makedirs(data_dir, exist_ok=True)\n",
    "    \n",
    "phys.WriteFluxMoments(data_dir+\"/adjflux_p\")"
   ]
  },
  {
   "cell_type": "markdown",
   "metadata": {},
   "source": [
    "With the adjoint data in hand and a forward source defined, we now create a `ResponseEvaluator`. \n",
    "\n",
    "We supply two options to the `evaluator`; the `buffers` (adjoint data) and the `sources`."
   ]
  },
  {
   "cell_type": "code",
   "execution_count": 20,
   "metadata": {},
   "outputs": [
    {
     "name": "stdout",
     "output_type": "stream",
     "text": [
      "[0]  Reading flux moments from /home/jason/Documents/Work/OpenSn/opensn-jay/doc/source/tutorials/lbs/primer/Data/adjflux_p\n"
     ]
    }
   ],
   "source": [
    "fwd_src = {'material': [{'block_id': 1, 'strength': [Q/dL]}]}\n",
    "\n",
    "evaluator = ResponseEvaluator(problem = phys)\n",
    "evaluator.SetOptions(\n",
    "    buffers = [{\n",
    "        'name': 'detector',\n",
    "        'file_prefixes': {'flux_moments': data_dir+'/adjflux_p'}\n",
    "    }],\n",
    "    sources = fwd_src\n",
    ")"
   ]
  },
  {
   "cell_type": "markdown",
   "metadata": {},
   "source": [
    "For computing the detector response we make use of `EvaluateResponse` which given a buffer name will compute an inner product of the adjoint flux $\\phi^{\\dagger,}$ against the forward source $q$ using the [duality principle](../../../theory/adjoint.rst) such that:\n",
    "\n",
    "$$\n",
    "\\text{QoI} = \\int_\\mathcal{D} d^3r \\, \\int_{(4\\pi)}   d\\Omega  \\, q(\\vec{r},\\vec\\Omega) \\psi^{\\dagger}(\\vec{r},\\vec\\Omega) = \\int_\\mathcal{D}  d^3r  \\, q(\\vec{r}) \\phi^{\\dagger}(\\vec{r})\n",
    "$$  "
   ]
  },
  {
   "cell_type": "code",
   "execution_count": 21,
   "metadata": {},
   "outputs": [
    {
     "name": "stdout",
     "output_type": "stream",
     "text": [
      "Adjoint Total Flux : 3.321548e-01\n",
      "Adjoint Total Response : 1.992929e-01\n"
     ]
    }
   ],
   "source": [
    "adj_flux = evaluator.EvaluateResponse(\"detector\")\n",
    "adj_resp = sig_det*adj_flux\n",
    "\n",
    "\n",
    "if rank == 0:\n",
    "    print(f\"{'Adjoint Total Flux :'} {adj_flux:.6e}\")\n",
    "    print(f\"{'Adjoint Total Response :'} {adj_resp:.6e}\")"
   ]
  },
  {
   "cell_type": "markdown",
   "metadata": {},
   "source": [
    "The adjoint flux solution can be exported to a .vtu using `ExportMultiToPVTU`, the same method previously used for the \"forward\" flux. "
   ]
  },
  {
   "cell_type": "code",
   "execution_count": 22,
   "metadata": {},
   "outputs": [
    {
     "name": "stdout",
     "output_type": "stream",
     "text": [
      "[0]  Exporting field functions to PVTU with file base \"Flux/adjflux_p\"\n",
      "[0]  Done exporting field functions to PVTU.\n"
     ]
    }
   ],
   "source": [
    "fflist = phys.GetScalarFieldFunctionList(only_scalar_flux=True)\n",
    "FFGrid = FieldFunctionGridBased\n",
    "FFGrid.ExportMultipleToPVTU([fflist[0]], \"Flux/adjflux_p\")"
   ]
  },
  {
   "cell_type": "markdown",
   "metadata": {},
   "source": [
    "#### Linear Field Function\n",
    "To save the scalar flux along a line segment of the problem we once again use ``FieldFunctionInterpolationLine()``"
   ]
  },
  {
   "cell_type": "code",
   "execution_count": 23,
   "metadata": {},
   "outputs": [
    {
     "name": "stdout",
     "output_type": "stream",
     "text": [
      "[0]  Exported CSV file for field func \"phi_g000_m00\" to \"Flux/adjdetector_phi_g000_m00.csv\"\n"
     ]
    }
   ],
   "source": [
    "for g in range(num_groups):\n",
    "    # Linear Field Function\n",
    "    ffline = FieldFunctionInterpolationLine()\n",
    "    ffline.SetInitialPoint(Vector3(0.0, 0.0, 0.0))\n",
    "    ffline.SetFinalPoint(Vector3(0.0, 0.0, 10.0))\n",
    "    ffline.SetNumberOfPoints(1000)\n",
    "    ffline.AddFieldFunction(fflist[0])\n",
    "    ffline.Initialize()\n",
    "    ffline.Execute()\n",
    "    ffline.ExportToCSV(\"Flux/adjdetector\")"
   ]
  },
  {
   "cell_type": "markdown",
   "metadata": {},
   "source": [
    "---"
   ]
  },
  {
   "cell_type": "markdown",
   "metadata": {},
   "source": [
    "## Solution\n",
    "\n",
    "To plot the scalar flux $\\phi(z)$ and adjoint flux $\\phi^\\dagger(z)$ we load the respective data from the .csv files. "
   ]
  },
  {
   "cell_type": "code",
   "execution_count": 24,
   "metadata": {},
   "outputs": [
    {
     "data": {
      "image/png": "[encoded data removed]",
      "text/plain": [
       "<Figure size 640x480 with 1 Axes>"
      ]
     },
     "metadata": {},
     "output_type": "display_data"
    }
   ],
   "source": [
    "import csv\n",
    "from os import walk\n",
    "import matplotlib.pyplot as plt\n",
    "\n",
    "# Convert each CSV to a python dictionary\n",
    "def CSVToDict(filename):\n",
    "    data = {}\n",
    "    with open(filename, newline=\"\") as csvfile:\n",
    "        reader = csv.DictReader(csvfile)\n",
    "        for row in reader:\n",
    "            for key, value in row.items():\n",
    "                data.setdefault(key, []).append(float(value))\n",
    "    return data\n",
    "\n",
    "# Collect each flux distribution into a dictionary\n",
    "# Flux -> detector   -> {x,y,z,phi_g001_m00}\n",
    "#      -> adjdetector -> {x,y,z,phi_g002_m00}\n",
    "Flux = {}\n",
    "for (dirpath, dirnames, filenames) in walk('Flux/'):\n",
    "   for filename in filenames:\n",
    "        if filename.split(\".\")[1] == \"csv\":\n",
    "            key = filename.split('.')[0].split('_')[0]\n",
    "            Flux[key] = CSVToDict(\"Flux/\"+filename)\n",
    "\n",
    "z = Flux['detector']['z']\n",
    "fwd = Flux['detector']['phi_g000_m00']\n",
    "adj = Flux['adjdetector']['phi_g000_m00']\n",
    "\n",
    "plt.figure()\n",
    "plt.plot(z, fwd, label=\"Forward\")\n",
    "plt.plot(z, adj, label=\"Adjoint\")\n",
    "plt.xlabel(\"Distance (cm)\")\n",
    "plt.ylabel(r\"$\\phi(z)$\")\n",
    "plt.legend()\n",
    "plt.grid()\n",
    "plt.show()"
   ]
  },
  {
   "cell_type": "markdown",
   "metadata": {},
   "source": [
    "---"
   ]
  },
  {
   "cell_type": "markdown",
   "metadata": {},
   "source": [
    "## Finalize (for Jupyter Notebook only)\n",
    "\n",
    "In Python script mode, PyOpenSn automatically handles environment termination. However, this\n",
    "automatic finalization does not occur when running in a Jupyter notebook, so explicit finalization\n",
    "of the environment at the end of the notebook is required. Do not call the finalization in Python\n",
    "script mode, or in console mode.\n",
    "\n",
    "Note that PyOpenSn's finalization must be called before MPI's finalization.\n"
   ]
  },
  {
   "cell_type": "code",
   "execution_count": 25,
   "metadata": {},
   "outputs": [
    {
     "data": {
      "text/plain": [
       "0"
      ]
     },
     "execution_count": 25,
     "metadata": {},
     "output_type": "execute_result"
    },
    {
     "name": "stdout",
     "output_type": "stream",
     "text": [
      "\n",
      "Elapsed execution time: 00:00:02.8\n",
      "2025-09-20 02:04:34 OpenSn finished execution.\n"
     ]
    }
   ],
   "source": [
    "from IPython import get_ipython\n",
    "\n",
    "def finalize_env():\n",
    "    Finalize()\n",
    "    MPI.Finalize()\n",
    "\n",
    "ipython_instance = get_ipython()\n",
    "if ipython_instance is not None:\n",
    "    ipython_instance.events.register(\"post_execute\", finalize_env)\n",
    "\n",
    "os.system(\"rm -rf Data Flux AdjFlux\")\n"
   ]
  }
 ],
 "metadata": {
  "kernelspec": {
   "display_name": "opensn_env",
   "language": "python",
   "name": "python3"
  },
  "language_info": {
   "codemirror_mode": {
    "name": "ipython",
    "version": 3
   },
   "file_extension": ".py",
   "mimetype": "text/x-python",
   "name": "python",
   "nbconvert_exporter": "python",
   "pygments_lexer": "ipython3",
   "version": "3.12.3"
  }
 },
 "nbformat": 4,
 "nbformat_minor": 4
}
