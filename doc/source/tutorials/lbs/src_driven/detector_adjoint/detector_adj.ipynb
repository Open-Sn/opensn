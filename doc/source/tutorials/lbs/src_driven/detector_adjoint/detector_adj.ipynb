{
 "cells": [
  {
   "cell_type": "markdown",
   "metadata": {},
   "source": [
    "# A Multigroup Adjoint Response\n",
    "\n",
    "In this example, we explore the use of an adjoint formulation of the linear Boltzmann equation to compute response functions in a specified region of interest (RoI). This problem builds on the corresponding example in [A Multigroup 1D Detector](../detector/detector_1d.ipynb). Additional information on the adjoint formalism can be found in the [theory manual](../../../theory/adjoint.rst).\n",
    "\n",
    "The following is a complete transport simulation example. Each element of the simulation can be described in the sections below:\n",
    "- [Prerequisites](#prerequisites)\n",
    "- [Geometry](#geometry)\n",
    "- [Mesh](#mesh)\n",
    "    - [Material IDs](#material-ids)\n",
    "    - [Cross Sections](#cross-sections)\n",
    "- [Solver](#Solver)\n",
    "    - [Angular Quadrature](#angular-quadrature)\n",
    "    - [Group Structure](#group-structure)\n",
    "    - [Adjoint Source Definitionn](#adjoint-source-definition)\n",
    "    - [Discrete Ordinates Problem](#discrete-ordinates-problem)\n",
    "    - [Execute](#execute)\n",
    "- [Post Processing](#post-processing)\n",
    "    - [Write Flux Moments](#write-flux-moments)\n",
    "    - [Detector Response](#detector-response)\n",
    "    - [Linear Field Function](#linear-field-function)\n",
    "    - [Compute Leakage](#compute-leakage)\n",
    "    - [Compute Balance](#compute-balance)"
   ]
  },
  {
   "cell_type": "markdown",
   "metadata": {},
   "source": [
    "---\n",
    "## **Prerequisites**\n",
    "\n",
    "Before running this example, make sure that the **Python module of OpenSn** was installed.\n",
    "\n",
    "### Converting and Running this Notebook from the Terminal\n",
    "To run this notebook from the terminal, simply type:\n",
    "\n",
    "`jupyter nbconvert --to python --execute detector_adj.ipynb`.\n",
    "\n",
    "To run this notebook in parallel (for example, using 4 processes), simply type:\n",
    "\n",
    "`mpiexec -n 4 jupyter nbconvert --to python --execute detector_adj.ipynb`."
   ]
  },
  {
   "cell_type": "code",
   "execution_count": 1,
   "metadata": {},
   "outputs": [
    {
     "name": "stdout",
     "output_type": "stream",
     "text": [
      "Running the LBS adjoint detector example with 1 MPI processors.\n"
     ]
    }
   ],
   "source": [
    "from mpi4py import MPI\n",
    "size = MPI.COMM_WORLD.size\n",
    "rank = MPI.COMM_WORLD.rank\n",
    "barrier = MPI.COMM_WORLD.barrier\n",
    "\n",
    "if rank == 0:\n",
    "    print(f\"Running the LBS adjoint detector example with {size} MPI processors.\")"
   ]
  },
  {
   "cell_type": "markdown",
   "metadata": {},
   "source": [
    "### Import Requirements\n",
    "\n",
    "Import required classes and functions from the Python interface of OpenSn. Make sure that the path\n",
    "to PyOpenSn is appended to Python's PATH."
   ]
  },
  {
   "cell_type": "code",
   "execution_count": 2,
   "metadata": {},
   "outputs": [
    {
     "name": "stdout",
     "output_type": "stream",
     "text": [
      "OpenSn version 0.0.1\n",
      "2025-09-20 01:45:09 Running OpenSn with 1 processes.\n",
      "\n"
     ]
    }
   ],
   "source": [
    "import os\n",
    "import sys\n",
    "import math\n",
    "import numpy as np\n",
    "\n",
    "# assuming that the execute dir is the notebook dir\n",
    "# this line is not necessary when PyOpenSn is installed using pip\n",
    "sys.path.append(\"../../..\")\n",
    "\n",
    "from pyopensn.mesh import OrthogonalMeshGenerator\n",
    "from pyopensn.xs import MultiGroupXS\n",
    "from pyopensn.source import PointSource, VolumetricSource\n",
    "from pyopensn.aquad import GLProductQuadrature1DSlab\n",
    "from pyopensn.solver import DiscreteOrdinatesProblem, SteadyStateSourceSolver\n",
    "from pyopensn.response import ResponseEvaluator\n",
    "from pyopensn.math import Vector3, VectorSpatialFunction\n",
    "from pyopensn.fieldfunc import FieldFunctionInterpolationVolume, \\\n",
    "                               FieldFunctionInterpolationLine, \\\n",
    "                               FieldFunctionGridBased\n",
    "from pyopensn.logvol import RPPLogicalVolume\n",
    "from pyopensn.context import UseColor, Finalize"
   ]
  },
  {
   "cell_type": "markdown",
   "metadata": {},
   "source": [
    "---"
   ]
  },
  {
   "cell_type": "markdown",
   "metadata": {},
   "source": [
    "## **Geometry**\n",
    "\n",
    "In this example, we define a 1D multi-group, source-driven detector response problem using the WIMS69 energy group structure. The neutron source is modeled as a 0.4 cm slab of Cf-252 encased in 0.1 cm slabs of stainless steel (SS-316). The detector is modeled as a 2.4 cm region of He-3 enclosed in a 0.07 cm SS-316 sleeve and surrounded by high-density polyethylene (HDPE). The geometric layout of the problem is shown below:\n",
    "\n",
    "<img src=\"images/detector_geom.png\"/>"
   ]
  },
  {
   "cell_type": "markdown",
   "metadata": {},
   "source": [
    "---\n"
   ]
  },
  {
   "cell_type": "markdown",
   "metadata": {},
   "source": [
    "\n",
    "## **Mesh**\n",
    "### Orthogonal Mesh Generation\n",
    "\n",
    "To generate the mesh for this problem, we use the in-house orthogonal mesh generator to create a simple Cartesian grid. We begin by creating a list of nodes along the spatial z-direction for  each region. "
   ]
  },
  {
   "cell_type": "code",
   "execution_count": 3,
   "metadata": {},
   "outputs": [
    {
     "name": "stdout",
     "output_type": "stream",
     "text": [
      "[0]  Done checking cell-center-to-face orientations\n",
      "[0]  00:00:00.1 Establishing cell connectivity.\n",
      "[0]  00:00:00.1 Vertex cell subscriptions complete.\n",
      "[0]  00:00:00.1 Surpassing cell 46 of 460 (10%)\n",
      "[0]  00:00:00.1 Surpassing cell 92 of 460 (20%)\n",
      "[0]  00:00:00.1 Surpassing cell 139 of 460 (30%)\n",
      "[0]  00:00:00.1 Surpassing cell 184 of 460 (40%)\n",
      "[0]  00:00:00.1 Surpassing cell 230 of 460 (50%)\n",
      "[0]  00:00:00.1 Surpassing cell 277 of 460 (60%)\n",
      "[0]  00:00:00.1 Surpassing cell 323 of 460 (70%)\n",
      "[0]  00:00:00.1 Surpassing cell 368 of 460 (80%)\n",
      "[0]  00:00:00.1 Surpassing cell 414 of 460 (90%)\n",
      "[0]  00:00:00.1 Surpassing cell 460 of 460 (100%)\n",
      "[0]  00:00:00.1 Establishing cell boundary connectivity.\n",
      "[0]  00:00:00.1 Done establishing cell connectivity.\n",
      "[0]  Number of cells per partition (max,min,avg) = 460,460,460\n",
      "[0]  \n",
      "[0]  Mesh statistics:\n",
      "[0]    Global cell count             : 460\n",
      "[0]    Local cell count (avg,max,min): 460,460,460\n",
      "[0]    Ghost-to-local ratio (avg)    : 0\n",
      "[0]  \n"
     ]
    }
   ],
   "source": [
    "# Source Interfaces\n",
    "src = [2.7, 2.8, 3.2, 3.3]\n",
    "d_src = [2, 4, 2]\n",
    "\n",
    "# Detector Interfaces\n",
    "det = [13.0, 16.73, 16.8, 19.2, 19.27, 23.0]\n",
    "d_det = [6, 2, 4, 2, 6]\n",
    "\n",
    "z  = [0.0, *src, *det, 25.0]\n",
    "dz = [4, *d_src, 10, *d_det, 4]\n",
    "\n",
    "ref = 10\n",
    "nodesz = np.concatenate([np.linspace(z[i], z[i+1], dz[i]*ref+1)[1:] if i>0 else np.linspace(z[i], z[i+1], dz[i]*ref+1) \n",
    "                         for i in range(len(z)-1)]).tolist()\n",
    "\n",
    "meshgen = OrthogonalMeshGenerator(node_sets=[nodesz])\n",
    "grid = meshgen.Execute()\n",
    "grid.SetOrthogonalBoundaries()"
   ]
  },
  {
   "cell_type": "markdown",
   "metadata": {},
   "source": [
    "### Material IDs\n",
    "When using the in-house `OrthogonalMeshGenerator`, no material IDs are assigned. The user needs to assign material IDs to all cells. We will begin by assigning the background material ID with a value of 0."
   ]
  },
  {
   "cell_type": "code",
   "execution_count": 4,
   "metadata": {},
   "outputs": [
    {
     "name": "stdout",
     "output_type": "stream",
     "text": [
      "[0]  00:00:00.1 Done setting block id 0 to all cells\n"
     ]
    }
   ],
   "source": [
    "grid.SetUniformBlockID(0)"
   ]
  },
  {
   "cell_type": "markdown",
   "metadata": {},
   "source": [
    "Next we will assign material IDs for the detector and source. When assigning material IDs via logical volumes the IDs for each cell is overriden by the most recent assignment. That is to say, assigning a material ID of 1 to any region in our domain will override the previously set ID to those cells. "
   ]
  },
  {
   "cell_type": "code",
   "execution_count": 5,
   "metadata": {},
   "outputs": [],
   "source": [
    "# Detector Volume\n",
    "det_hdpe = RPPLogicalVolume(\n",
    "            infx=True,\n",
    "            infy=True,\n",
    "            zmin=det[0], zmax=det[-1],\n",
    ")\n",
    "grid.SetBlockIDFromLogicalVolume(det_hdpe, 1, True)\n",
    "\n",
    "det_sleeve = RPPLogicalVolume(\n",
    "            infx=True,\n",
    "            infy=True,\n",
    "            zmin=det[1], zmax=det[-2],\n",
    ")\n",
    "grid.SetBlockIDFromLogicalVolume(det_sleeve, 2, True)\n",
    "\n",
    "det_he3 = RPPLogicalVolume(\n",
    "            infx=True,\n",
    "            infy=True,\n",
    "            zmin=det[2], zmax=det[-3],\n",
    ")\n",
    "grid.SetBlockIDFromLogicalVolume(det_he3, 3, True)"
   ]
  },
  {
   "cell_type": "code",
   "execution_count": 6,
   "metadata": {},
   "outputs": [],
   "source": [
    "# Src Volume\n",
    "src_casing = RPPLogicalVolume(\n",
    "            infx=True,\n",
    "            infy=True,\n",
    "            zmin=src[0], zmax=src[-1],\n",
    ")\n",
    "grid.SetBlockIDFromLogicalVolume(src_casing, 2, True)\n",
    "\n",
    "src_cf = RPPLogicalVolume(\n",
    "            infx=True,\n",
    "            infy=True,\n",
    "            zmin=src[1], zmax=src[-2],\n",
    ")\n",
    "grid.SetBlockIDFromLogicalVolume(src_cf, 4, True)\n"
   ]
  },
  {
   "cell_type": "markdown",
   "metadata": {},
   "source": [
    "### Cross Sections\n",
    "In this problem, we compute the multigroup absorption reaction rate in a He-3 detector. We begin by importing the multigroup cross sections, using the WIMS69 energy group structure for five materials:\n",
    "- Air\n",
    "- HDPE\n",
    "- SS-316\n",
    "- He-3\n",
    "- Cf-252"
   ]
  },
  {
   "cell_type": "code",
   "execution_count": 7,
   "metadata": {},
   "outputs": [
    {
     "name": "stdout",
     "output_type": "stream",
     "text": [
      "[0]  Reading OpenSn cross-section file \"WIMS69/Air.cxs\"\n",
      "[0]  Reading OpenSn cross-section file \"WIMS69/HDPE.cxs\"\n",
      "[0]  Reading OpenSn cross-section file \"WIMS69/SS_316.cxs\"\n",
      "[0]  Reading OpenSn cross-section file \"WIMS69/He3.cxs\"\n",
      "[0]  Reading OpenSn cross-section file \"WIMS69/Cf252.cxs\"\n"
     ]
    }
   ],
   "source": [
    "xs_dir = \"WIMS69\"\n",
    "xs_air = MultiGroupXS()\n",
    "xs_air.LoadFromOpenSn(xs_dir+\"/Air.cxs\")\n",
    "\n",
    "xs_hdpe = MultiGroupXS()\n",
    "xs_hdpe.LoadFromOpenSn(xs_dir+\"/HDPE.cxs\")\n",
    "\n",
    "xs_steel = MultiGroupXS()\n",
    "xs_steel.LoadFromOpenSn(xs_dir+\"/SS_316.cxs\")\n",
    "\n",
    "xs_he3 = MultiGroupXS()\n",
    "xs_he3.LoadFromOpenSn(xs_dir+\"/He3.cxs\")\n",
    "\n",
    "xs_cf = MultiGroupXS()\n",
    "xs_cf.LoadFromOpenSn(xs_dir+\"/Cf252.cxs\")\n",
    "\n",
    "xsecs = [{\"block_ids\": [0], \"xs\": xs_air},\n",
    "         {\"block_ids\": [1], \"xs\": xs_hdpe},\n",
    "         {\"block_ids\": [2], \"xs\": xs_steel},\n",
    "         {\"block_ids\": [3], \"xs\": xs_he3},\n",
    "         {\"block_ids\": [4], \"xs\": xs_cf}]"
   ]
  },
  {
   "cell_type": "markdown",
   "metadata": {},
   "source": [
    "---"
   ]
  },
  {
   "cell_type": "markdown",
   "metadata": {},
   "source": [
    "## **Solver**"
   ]
  },
  {
   "cell_type": "markdown",
   "metadata": {},
   "source": [
    "### Angular Quadrature\n",
    "Since we are solving a 1D problem we will create Gauss-Legendre Product Quadrature for a 1D slab. In this case we will use 512 polar angles creating a 1D angular quadrature in $\\mu$ with a scattering order of 0."
   ]
  },
  {
   "cell_type": "code",
   "execution_count": 8,
   "metadata": {},
   "outputs": [
    {
     "name": "stdout",
     "output_type": "stream",
     "text": [
      "[0]  Using 1D Slab Gauss–Legendre product quadrature with 512 angles and weight sum of 1.00\n"
     ]
    }
   ],
   "source": [
    "pquad = GLProductQuadrature1DSlab(n_polar=512, \n",
    "                                  scattering_order=0)"
   ]
  },
  {
   "cell_type": "markdown",
   "metadata": {},
   "source": [
    "### Group Structure\n",
    "Since we are using the WIMS69 group structure, we define a groupset block with 69 energy groups."
   ]
  },
  {
   "cell_type": "code",
   "execution_count": 9,
   "metadata": {},
   "outputs": [],
   "source": [
    "num_groups = 69\n",
    "grpsets = [\n",
    "    {\n",
    "        \"groups_from_to\": (0, num_groups-1),\n",
    "        \"angular_quadrature\": pquad,\n",
    "        \"inner_linear_method\": \"petsc_gmres\",\n",
    "        \"l_abs_tol\": 1.0e-9,\n",
    "        \"l_max_its\": 500,\n",
    "        \"gmres_restart_interval\": 100,\n",
    "    },\n",
    "]"
   ]
  },
  {
   "cell_type": "markdown",
   "metadata": {},
   "source": [
    "### Adjoint Source Definition\n",
    "\n",
    "For solving the 1D transport problem via the adjoint operator we first define our adjoint source $q^{\\dagger}$ to be the detector volume and apply a source strength equivalent to the abosrption cross section of our detector $\\sigma^{He3,g}_a$. (By default, adjoint sources are isotoropically distributed in angle across the souce domain)\n",
    "\n",
    "To do this we create a `ResponseFunction`. A response function takes the place of defining the group strength. This can be used to specifiy responses to specific energy bins, or this case, capture our detector response."
   ]
  },
  {
   "cell_type": "code",
   "execution_count": 10,
   "metadata": {},
   "outputs": [],
   "source": [
    "def ResponseFunction(xyz, mat_id):\n",
    "    response = xs_he3.sigma_a\n",
    "    return response\n",
    "response_func = VectorSpatialFunction(ResponseFunction)\n",
    "\n",
    "adj_src = VolumetricSource(logical_volume=det_he3, func=response_func)"
   ]
  },
  {
   "cell_type": "markdown",
   "metadata": {},
   "source": [
    "### Discrete Ordinates Problem\n",
    "For establishing the discrete ordinate problem, we provide;\n",
    "+ mesh : The mesh\n",
    "+ num_groups : The number of energy groups\n",
    "+ groupsets : The groupsets block\n",
    "+ scattering_order : The scattering order\n",
    "+ xs_map : Cross section map\n",
    "+ volumetric_sources : The volumetric source\n",
    "+ boundary_conditions : The boundary conditions\n",
    "+ options : Physics solver options"
   ]
  },
  {
   "cell_type": "code",
   "execution_count": 11,
   "metadata": {},
   "outputs": [],
   "source": [
    "phys = DiscreteOrdinatesProblem(\n",
    "    mesh=grid,\n",
    "    num_groups=num_groups,\n",
    "    groupsets=grpsets,\n",
    "    scattering_order=0,\n",
    "    xs_map=xsecs,\n",
    "    volumetric_sources = [adj_src],\n",
    "    boundary_conditions = [\n",
    "        {\"name\": \"zmin\", \"type\": \"vacuum\"},\n",
    "        {\"name\": \"zmax\", \"type\": \"vacuum\"}\n",
    "    ],\n",
    "    options = {\"save_angular_flux\": True,\n",
    "               \"adjoint\": True},\n",
    ")"
   ]
  },
  {
   "cell_type": "markdown",
   "metadata": {},
   "source": [
    "### Execute\n",
    "We then create the physics solver, initialize it, and execute it."
   ]
  },
  {
   "cell_type": "code",
   "execution_count": 12,
   "metadata": {},
   "outputs": [
    {
     "name": "stdout",
     "output_type": "stream",
     "text": [
      "[0]  \n",
      "[0]  Initializing LBS SteadyStateSourceSolver with name: LBSDiscreteOrdinatesProblem\n",
      "[0]  \n",
      "[0]  Scattering order    : 0\n",
      "[0]  Number of Groups    : 69\n",
      "[0]  Number of Group sets: 1\n",
      "[0]  \n",
      "[0]  ***** Groupset 0 *****\n",
      "[0]  Groups:\n",
      "[0]      0     1     2     3     4     5     6     7     8     9    10    11 \n",
      "[0]     12    13    14    15    16    17    18    19    20    21    22    23 \n",
      "[0]     24    25    26    27    28    29    30    31    32    33    34    35 \n",
      "[0]     36    37    38    39    40    41    42    43    44    45    46    47 \n",
      "[0]     48    49    50    51    52    53    54    55    56    57    58    59 \n",
      "[0]     60    61    62    63    64    65    66    67    68 \n",
      "[0]  \n",
      "[0]  Initializing spatial discretization.\n",
      "[0]  Computing unit integrals.\n",
      "[0]  Ghost cell unit cell-matrix ratio: 0%\n",
      "[0]  Cell matrices computed.\n",
      "[0]  *** WARNING ***  Computing the flux with fewer scattering moments than are present in the cross-section data for block 0\n",
      "[0]  *** WARNING ***  Computing the flux with fewer scattering moments than are present in the cross-section data for block 1\n",
      "[0]  *** WARNING ***  Computing the flux with fewer scattering moments than are present in the cross-section data for block 2\n",
      "[0]  *** WARNING ***  Computing the flux with fewer scattering moments than are present in the cross-section data for block 3\n",
      "[0]  *** WARNING ***  Computing the flux with fewer scattering moments than are present in the cross-section data for block 4\n",
      "[0]  Initializing parallel arrays. G=69 M=1\n",
      "[0]  Done with parallel arrays.\n",
      "[0]  Volumetric source #0 has 40 total subscribing cells.\n",
      "[0]  00:00:00.8 Initializing sweep datastructures.\n",
      "[0]  00:00:00.8 Done initializing sweep datastructures.\n",
      "[0]  00:00:00.8 Initialized angle aggregation.\n",
      "[0]  Initializing WGS and AGS solvers\n",
      "[0]  Total number of angular unknowns: 32501760\n",
      "[0]  Number of lagged angular unknowns: 0(0%)\n",
      "[0]  \n",
      "[0]  \n",
      "[0]  ********** Solving groupset 0 with PETSC_GMRES\n",
      "[0]  \n",
      "[0]  Quadrature number of angles: 512\n",
      "[0]  Groups 0 68\n",
      "[0]  \n",
      "[0]  00:00:00.8 Computing b\n",
      "[0]  00:00:01.6 WGS groups [0-68] Iteration     0 Residual         1\n",
      "[0]  00:00:02.4 WGS groups [0-68] Iteration     1 Residual  0.169492\n",
      "[0]  00:00:03.1 WGS groups [0-68] Iteration     2 Residual 0.0733121\n",
      "[0]  00:00:03.9 WGS groups [0-68] Iteration     3 Residual  0.056536\n",
      "[0]  00:00:04.7 WGS groups [0-68] Iteration     4 Residual 0.0460515\n",
      "[0]  00:00:05.5 WGS groups [0-68] Iteration     5 Residual 0.0447157\n",
      "[0]  00:00:06.2 WGS groups [0-68] Iteration     6 Residual 0.0420377\n",
      "[0]  00:00:07.0 WGS groups [0-68] Iteration     7 Residual 0.0378549\n",
      "[0]  00:00:07.8 WGS groups [0-68] Iteration     8 Residual 0.0346022\n",
      "[0]  00:00:08.6 WGS groups [0-68] Iteration     9 Residual 0.0313861\n",
      "[0]  00:00:09.3 WGS groups [0-68] Iteration    10 Residual 0.0294786\n",
      "[0]  00:00:10.1 WGS groups [0-68] Iteration    11 Residual 0.0253271\n",
      "[0]  00:00:10.9 WGS groups [0-68] Iteration    12 Residual 0.0172919\n",
      "[0]  00:00:11.7 WGS groups [0-68] Iteration    13 Residual 0.0119881\n",
      "[0]  00:00:12.4 WGS groups [0-68] Iteration    14 Residual 0.00959728\n",
      "[0]  00:00:13.2 WGS groups [0-68] Iteration    15 Residual 0.00824602\n",
      "[0]  00:00:13.9 WGS groups [0-68] Iteration    16 Residual 0.0071528\n",
      "[0]  00:00:14.7 WGS groups [0-68] Iteration    17 Residual 0.00650336\n",
      "[0]  00:00:15.5 WGS groups [0-68] Iteration    18 Residual 0.00576217\n",
      "[0]  00:00:16.2 WGS groups [0-68] Iteration    19 Residual 0.00520831\n",
      "[0]  00:00:17.0 WGS groups [0-68] Iteration    20 Residual 0.00462648\n",
      "[0]  00:00:17.8 WGS groups [0-68] Iteration    21 Residual 0.00399869\n",
      "[0]  00:00:18.6 WGS groups [0-68] Iteration    22 Residual 0.00342091\n",
      "[0]  00:00:19.3 WGS groups [0-68] Iteration    23 Residual 0.00293254\n",
      "[0]  00:00:20.1 WGS groups [0-68] Iteration    24 Residual 0.00240671\n",
      "[0]  00:00:20.9 WGS groups [0-68] Iteration    25 Residual 0.00180988\n",
      "[0]  00:00:21.6 WGS groups [0-68] Iteration    26 Residual 0.0013544\n",
      "[0]  00:00:22.4 WGS groups [0-68] Iteration    27 Residual 0.000985589\n",
      "[0]  00:00:23.2 WGS groups [0-68] Iteration    28 Residual 0.000618165\n",
      "[0]  00:00:23.9 WGS groups [0-68] Iteration    29 Residual 0.000462905\n",
      "[0]  00:00:24.7 WGS groups [0-68] Iteration    30 Residual 0.000406457\n",
      "[0]  00:00:25.4 WGS groups [0-68] Iteration    31 Residual 0.000366398\n",
      "[0]  00:00:26.2 WGS groups [0-68] Iteration    32 Residual 0.000338631\n",
      "[0]  00:00:26.9 WGS groups [0-68] Iteration    33 Residual 0.000321261\n",
      "[0]  00:00:27.7 WGS groups [0-68] Iteration    34 Residual 0.000299776\n",
      "[0]  00:00:28.5 WGS groups [0-68] Iteration    35 Residual 0.00021187\n",
      "[0]  00:00:29.3 WGS groups [0-68] Iteration    36 Residual 0.000113433\n",
      "[0]  00:00:30.0 WGS groups [0-68] Iteration    37 Residual 7.70207e-05\n",
      "[0]  00:00:30.8 WGS groups [0-68] Iteration    38 Residual 4.70869e-05\n",
      "[0]  00:00:31.6 WGS groups [0-68] Iteration    39 Residual 2.70834e-05\n",
      "[0]  00:00:32.4 WGS groups [0-68] Iteration    40 Residual 1.88603e-05\n",
      "[0]  00:00:33.1 WGS groups [0-68] Iteration    41 Residual 1.31866e-05\n",
      "[0]  00:00:33.9 WGS groups [0-68] Iteration    42 Residual 8.41508e-06\n",
      "[0]  00:00:34.7 WGS groups [0-68] Iteration    43 Residual 5.50983e-06\n",
      "[0]  00:00:35.4 WGS groups [0-68] Iteration    44 Residual 3.81981e-06\n",
      "[0]  00:00:36.2 WGS groups [0-68] Iteration    45 Residual 2.90004e-06\n",
      "[0]  00:00:36.9 WGS groups [0-68] Iteration    46 Residual 2.14286e-06\n",
      "[0]  00:00:37.7 WGS groups [0-68] Iteration    47 Residual 1.72945e-06\n",
      "[0]  00:00:38.5 WGS groups [0-68] Iteration    48 Residual 1.37934e-06\n",
      "[0]  00:00:39.2 WGS groups [0-68] Iteration    49 Residual 1.03432e-06\n",
      "[0]  00:00:40.0 WGS groups [0-68] Iteration    50 Residual 6.34689e-07\n",
      "[0]  00:00:40.8 WGS groups [0-68] Iteration    51 Residual 4.06143e-07\n",
      "[0]  00:00:41.6 WGS groups [0-68] Iteration    52 Residual 2.44733e-07\n",
      "[0]  00:00:42.4 WGS groups [0-68] Iteration    53 Residual 9.78288e-08\n",
      "[0]  00:00:43.1 WGS groups [0-68] Iteration    54 Residual 3.76214e-08\n",
      "[0]  00:00:43.9 WGS groups [0-68] Iteration    55 Residual 2.27974e-08\n",
      "[0]  00:00:44.6 WGS groups [0-68] Iteration    56 Residual 1.12505e-08\n",
      "[0]  00:00:45.4 WGS groups [0-68] Iteration    57 Residual 6.36185e-09\n",
      "[0]  00:00:46.2 WGS groups [0-68] Iteration    58 Residual 2.98874e-09\n",
      "[0]  00:00:46.9 WGS groups [0-68] Iteration    59 Residual 1.4653e-09\n",
      "[0]  00:00:47.7 WGS groups [0-68] Iteration    60 Residual 9.51392e-10 CONVERGED\n",
      "[0]  \n",
      "[0]  \n",
      "[0]         Average sweep time (s):        0.722553\n",
      "[0]         Sweep Time/Unknown (ns):       22.2312\n",
      "[0]         Number of unknowns per sweep:  32501760\n",
      "[0]  \n"
     ]
    }
   ],
   "source": [
    "ss_solver = SteadyStateSourceSolver(problem=phys)\n",
    "ss_solver.Initialize()\n",
    "ss_solver.Execute()"
   ]
  },
  {
   "cell_type": "markdown",
   "metadata": {},
   "source": [
    "## Post Processing"
   ]
  },
  {
   "cell_type": "markdown",
   "metadata": {},
   "source": [
    "### Write Flux Moments\n",
    "When evaluating response functions via the adjoint formalism its efficiency derives from having access to the adjoint solution $\\phi^{\\dagger,g}$. For this, we export the adjoint flux moments to a .h5 file using `WriteFluxMoments`. The adjoint data is then saved to a location of our choosing.  "
   ]
  },
  {
   "cell_type": "code",
   "execution_count": 13,
   "metadata": {},
   "outputs": [
    {
     "name": "stdout",
     "output_type": "stream",
     "text": [
      "[0]  Writing flux moments to /home/jason/Documents/Work/OpenSn/opensn-jay/doc/source/tutorials/lbs/src_driven/detector_adjoint/Data/adjphi_p\n"
     ]
    }
   ],
   "source": [
    "data_dir = os.getcwd()+\"/Data\"\n",
    "os.makedirs(data_dir, exist_ok=True)\n",
    "\n",
    "phys.WriteFluxMoments(data_dir+\"/adjphi_p\")"
   ]
  },
  {
   "cell_type": "markdown",
   "metadata": {},
   "source": [
    "### Detector Response\n",
    "\n",
    "An adjoint formulation has no meaning without a corresponding forward response. For the volumetric source, we first define the forward source spectrum. In this case, we assign a uniform energy spectrum distributed throughout the source logical volume. Using `VolumetricSource`, this group-wise source is specified per unit length for material ID 4."
   ]
  },
  {
   "cell_type": "code",
   "execution_count": 14,
   "metadata": {},
   "outputs": [],
   "source": [
    "groups = np.flip([1.00000E-11, 5.00000E-09, 1.00000E-08, 1.50000E-08, 2.00000E-08, \n",
    "                  2.50000E-08, 3.00000E-08, 3.50000E-08, 4.20000E-08, 5.00000E-08, \n",
    "                  5.80000E-08, 6.70000E-08, 8.00000E-08, 1.00000E-07, 1.40000E-07, \n",
    "                  1.80000E-07, 2.20000E-07, 2.50000E-07, 2.80000E-07, 3.00000E-07, \n",
    "                  3.20000E-07, 3.50000E-07, 4.00000E-07, 5.00000E-07, 6.25000E-07, \n",
    "                  7.80000E-07, 8.50000E-07, 9.10000E-07, 9.50000E-07, 9.72000E-07, \n",
    "                  9.96000E-07, 1.02000E-06, 1.04500E-06, 1.07100E-06, 1.09700E-06, \n",
    "                  1.12300E-06, 1.15000E-06, 1.30000E-06, 1.50000E-06, 2.10000E-06, \n",
    "                  2.60000E-06, 3.30000E-06, 4.00000E-06, 9.87700E-06, 1.59680E-05, \n",
    "                  2.77000E-05, 4.80520E-05, 7.55014E-05, 1.48729E-04, 3.67263E-04, \n",
    "                  9.06899E-04, 1.42510E-03, 2.23945E-03, 3.51910E-03, 5.53000E-03, \n",
    "                  9.11800E-03, 1.50300E-02, 2.47800E-02, 4.08500E-02, 6.73400E-02, \n",
    "                  1.11000E-01, 1.83000E-01, 3.02500E-01, 5.00000E-01, 8.21000E-01, \n",
    "                  1.35300E+00, 2.23100E+00, 3.67900E+00, 6.06550E+00, 1.00000E+01])\n",
    "group_width = -np.diff(groups)\n",
    "dE = groups[0] - groups[-1]\n",
    "dL = src[-2] - src[1]\n",
    "Q = (group_width / dE / dL).tolist()\n",
    "\n",
    "fwd_src = {'material': [{'block_id': 4, 'strength': Q}]}"
   ]
  },
  {
   "cell_type": "markdown",
   "metadata": {},
   "source": [
    "With the adjoint data in hand and a forward source defined, we now create a `ResponseEvaluator`. \n",
    "\n",
    "We supply two options to the `evaluator`; the `buffers` (adjoint data) and the `sources`."
   ]
  },
  {
   "cell_type": "code",
   "execution_count": 15,
   "metadata": {},
   "outputs": [
    {
     "name": "stdout",
     "output_type": "stream",
     "text": [
      "[0]  Reading flux moments from /home/jason/Documents/Work/OpenSn/opensn-jay/doc/source/tutorials/lbs/src_driven/detector_adjoint/Data/adjphi_p\n"
     ]
    }
   ],
   "source": [
    "evaluator = ResponseEvaluator(problem = phys)\n",
    "evaluator.SetOptions(\n",
    "    buffers = [{\n",
    "        'name': 'detector', \n",
    "        'file_prefixes': {'flux_moments': data_dir+'/adjphi_p'}\n",
    "    }],\n",
    "    sources = fwd_src\n",
    ")"
   ]
  },
  {
   "cell_type": "markdown",
   "metadata": {},
   "source": [
    "For computing the detector response we make use of `EvaluateResponse` which given a buffer name will compute an inner product of the adjoint flux $\\phi^{\\dagger,}$ against the forward source $q$ using the [duality principle](../../../theory/adjoint.rst) such that:\n",
    "\n",
    "$$\n",
    "\\text{QoI} =  \\sum^G_g \\, \\text{RR}^g = \\sum^G_g \\, \\int_\\mathcal{D} d^3r \\, \\int_{(4\\pi)}   d\\Omega  \\, q^g(\\vec{r},\\vec\\Omega) \\psi^{\\dagger,g}(\\vec{r},\\vec\\Omega) = \\sum^G_g \\, \\int_\\mathcal{D}  d^3r  \\, q^g(\\vec{r}) \\phi^{\\dagger,g}(\\vec{r})\n",
    "$$"
   ]
  },
  {
   "cell_type": "code",
   "execution_count": 16,
   "metadata": {},
   "outputs": [
    {
     "name": "stdout",
     "output_type": "stream",
     "text": [
      "Adjoint Total Response : 1.237160e-01\n"
     ]
    }
   ],
   "source": [
    "adj_resp = evaluator.EvaluateResponse(\"detector\")\n",
    "\n",
    "if rank == 0:\n",
    "    print(f\"{'Adjoint Total Response :'} {adj_resp:.6e}\")"
   ]
  },
  {
   "cell_type": "markdown",
   "metadata": {},
   "source": [
    "With our field function defined, we can also export the multi-group adjoint flux moments, $\\phi^{\\dagger,g}$, to a .vtu file using ``ExportMultipleToPVTU``."
   ]
  },
  {
   "cell_type": "code",
   "execution_count": 17,
   "metadata": {},
   "outputs": [
    {
     "name": "stdout",
     "output_type": "stream",
     "text": [
      "[0]  Exporting field functions to PVTU with file base \"AdjFlux/adjdetector_p\"\n",
      "[0]  Done exporting field functions to PVTU.\n"
     ]
    }
   ],
   "source": [
    "fflist = phys.GetScalarFieldFunctionList(only_scalar_flux=False)\n",
    "fields = []\n",
    "for g in range(num_groups):\n",
    "    fields.append(fflist[g][0])\n",
    "\n",
    "FFGrid = FieldFunctionGridBased\n",
    "FFGrid.ExportMultipleToPVTU(fields, \"AdjFlux/adjdetector_p\")"
   ]
  },
  {
   "cell_type": "markdown",
   "metadata": {},
   "source": [
    "### Linear Field Function\n",
    "To plot the scalar flux along a line segment of the problem we use ``FieldFunctionInterpolationLine()``"
   ]
  },
  {
   "cell_type": "code",
   "execution_count": 18,
   "metadata": {},
   "outputs": [
    {
     "name": "stdout",
     "output_type": "stream",
     "text": [
      "[0]  Exported CSV file for field func \"phi_g000_m00\" to \"AdjFlux/adjdetector_phi_g000_m00.csv\"\n",
      "[0]  Exported CSV file for field func \"phi_g001_m00\" to \"AdjFlux/adjdetector_phi_g001_m00.csv\"\n",
      "[0]  Exported CSV file for field func \"phi_g002_m00\" to \"AdjFlux/adjdetector_phi_g002_m00.csv\"\n",
      "[0]  Exported CSV file for field func \"phi_g003_m00\" to \"AdjFlux/adjdetector_phi_g003_m00.csv\"\n",
      "[0]  Exported CSV file for field func \"phi_g004_m00\" to \"AdjFlux/adjdetector_phi_g004_m00.csv\"\n",
      "[0]  Exported CSV file for field func \"phi_g005_m00\" to \"AdjFlux/adjdetector_phi_g005_m00.csv\"\n",
      "[0]  Exported CSV file for field func \"phi_g006_m00\" to \"AdjFlux/adjdetector_phi_g006_m00.csv\"\n",
      "[0]  Exported CSV file for field func \"phi_g007_m00\" to \"AdjFlux/adjdetector_phi_g007_m00.csv\"\n",
      "[0]  Exported CSV file for field func \"phi_g008_m00\" to \"AdjFlux/adjdetector_phi_g008_m00.csv\"\n",
      "[0]  Exported CSV file for field func \"phi_g009_m00\" to \"AdjFlux/adjdetector_phi_g009_m00.csv\"\n",
      "[0]  Exported CSV file for field func \"phi_g010_m00\" to \"AdjFlux/adjdetector_phi_g010_m00.csv\"\n",
      "[0]  Exported CSV file for field func \"phi_g011_m00\" to \"AdjFlux/adjdetector_phi_g011_m00.csv\"\n",
      "[0]  Exported CSV file for field func \"phi_g012_m00\" to \"AdjFlux/adjdetector_phi_g012_m00.csv\"\n",
      "[0]  Exported CSV file for field func \"phi_g013_m00\" to \"AdjFlux/adjdetector_phi_g013_m00.csv\"\n",
      "[0]  Exported CSV file for field func \"phi_g014_m00\" to \"AdjFlux/adjdetector_phi_g014_m00.csv\"\n",
      "[0]  Exported CSV file for field func \"phi_g015_m00\" to \"AdjFlux/adjdetector_phi_g015_m00.csv\"\n",
      "[0]  Exported CSV file for field func \"phi_g016_m00\" to \"AdjFlux/adjdetector_phi_g016_m00.csv\"\n",
      "[0]  Exported CSV file for field func \"phi_g017_m00\" to \"AdjFlux/adjdetector_phi_g017_m00.csv\"\n",
      "[0]  Exported CSV file for field func \"phi_g018_m00\" to \"AdjFlux/adjdetector_phi_g018_m00.csv\"\n",
      "[0]  Exported CSV file for field func \"phi_g019_m00\" to \"AdjFlux/adjdetector_phi_g019_m00.csv\"\n",
      "[0]  Exported CSV file for field func \"phi_g020_m00\" to \"AdjFlux/adjdetector_phi_g020_m00.csv\"\n",
      "[0]  Exported CSV file for field func \"phi_g021_m00\" to \"AdjFlux/adjdetector_phi_g021_m00.csv\"\n",
      "[0]  Exported CSV file for field func \"phi_g022_m00\" to \"AdjFlux/adjdetector_phi_g022_m00.csv\"\n",
      "[0]  Exported CSV file for field func \"phi_g023_m00\" to \"AdjFlux/adjdetector_phi_g023_m00.csv\"\n",
      "[0]  Exported CSV file for field func \"phi_g024_m00\" to \"AdjFlux/adjdetector_phi_g024_m00.csv\"\n",
      "[0]  Exported CSV file for field func \"phi_g025_m00\" to \"AdjFlux/adjdetector_phi_g025_m00.csv\"\n",
      "[0]  Exported CSV file for field func \"phi_g026_m00\" to \"AdjFlux/adjdetector_phi_g026_m00.csv\"\n",
      "[0]  Exported CSV file for field func \"phi_g027_m00\" to \"AdjFlux/adjdetector_phi_g027_m00.csv\"\n",
      "[0]  Exported CSV file for field func \"phi_g028_m00\" to \"AdjFlux/adjdetector_phi_g028_m00.csv\"\n",
      "[0]  Exported CSV file for field func \"phi_g029_m00\" to \"AdjFlux/adjdetector_phi_g029_m00.csv\"\n",
      "[0]  Exported CSV file for field func \"phi_g030_m00\" to \"AdjFlux/adjdetector_phi_g030_m00.csv\"\n",
      "[0]  Exported CSV file for field func \"phi_g031_m00\" to \"AdjFlux/adjdetector_phi_g031_m00.csv\"\n",
      "[0]  Exported CSV file for field func \"phi_g032_m00\" to \"AdjFlux/adjdetector_phi_g032_m00.csv\"\n",
      "[0]  Exported CSV file for field func \"phi_g033_m00\" to \"AdjFlux/adjdetector_phi_g033_m00.csv\"\n",
      "[0]  Exported CSV file for field func \"phi_g034_m00\" to \"AdjFlux/adjdetector_phi_g034_m00.csv\"\n",
      "[0]  Exported CSV file for field func \"phi_g035_m00\" to \"AdjFlux/adjdetector_phi_g035_m00.csv\"\n",
      "[0]  Exported CSV file for field func \"phi_g036_m00\" to \"AdjFlux/adjdetector_phi_g036_m00.csv\"\n",
      "[0]  Exported CSV file for field func \"phi_g037_m00\" to \"AdjFlux/adjdetector_phi_g037_m00.csv\"\n",
      "[0]  Exported CSV file for field func \"phi_g038_m00\" to \"AdjFlux/adjdetector_phi_g038_m00.csv\"\n",
      "[0]  Exported CSV file for field func \"phi_g039_m00\" to \"AdjFlux/adjdetector_phi_g039_m00.csv\"\n",
      "[0]  Exported CSV file for field func \"phi_g040_m00\" to \"AdjFlux/adjdetector_phi_g040_m00.csv\"\n",
      "[0]  Exported CSV file for field func \"phi_g041_m00\" to \"AdjFlux/adjdetector_phi_g041_m00.csv\"\n",
      "[0]  Exported CSV file for field func \"phi_g042_m00\" to \"AdjFlux/adjdetector_phi_g042_m00.csv\"\n",
      "[0]  Exported CSV file for field func \"phi_g043_m00\" to \"AdjFlux/adjdetector_phi_g043_m00.csv\"\n",
      "[0]  Exported CSV file for field func \"phi_g044_m00\" to \"AdjFlux/adjdetector_phi_g044_m00.csv\"\n",
      "[0]  Exported CSV file for field func \"phi_g045_m00\" to \"AdjFlux/adjdetector_phi_g045_m00.csv\"\n",
      "[0]  Exported CSV file for field func \"phi_g046_m00\" to \"AdjFlux/adjdetector_phi_g046_m00.csv\"\n",
      "[0]  Exported CSV file for field func \"phi_g047_m00\" to \"AdjFlux/adjdetector_phi_g047_m00.csv\"\n",
      "[0]  Exported CSV file for field func \"phi_g048_m00\" to \"AdjFlux/adjdetector_phi_g048_m00.csv\"\n",
      "[0]  Exported CSV file for field func \"phi_g049_m00\" to \"AdjFlux/adjdetector_phi_g049_m00.csv\"\n",
      "[0]  Exported CSV file for field func \"phi_g050_m00\" to \"AdjFlux/adjdetector_phi_g050_m00.csv\"\n",
      "[0]  Exported CSV file for field func \"phi_g051_m00\" to \"AdjFlux/adjdetector_phi_g051_m00.csv\"\n",
      "[0]  Exported CSV file for field func \"phi_g052_m00\" to \"AdjFlux/adjdetector_phi_g052_m00.csv\"\n",
      "[0]  Exported CSV file for field func \"phi_g053_m00\" to \"AdjFlux/adjdetector_phi_g053_m00.csv\"\n",
      "[0]  Exported CSV file for field func \"phi_g054_m00\" to \"AdjFlux/adjdetector_phi_g054_m00.csv\"\n",
      "[0]  Exported CSV file for field func \"phi_g055_m00\" to \"AdjFlux/adjdetector_phi_g055_m00.csv\"\n",
      "[0]  Exported CSV file for field func \"phi_g056_m00\" to \"AdjFlux/adjdetector_phi_g056_m00.csv\"\n",
      "[0]  Exported CSV file for field func \"phi_g057_m00\" to \"AdjFlux/adjdetector_phi_g057_m00.csv\"\n",
      "[0]  Exported CSV file for field func \"phi_g058_m00\" to \"AdjFlux/adjdetector_phi_g058_m00.csv\"\n",
      "[0]  Exported CSV file for field func \"phi_g059_m00\" to \"AdjFlux/adjdetector_phi_g059_m00.csv\"\n",
      "[0]  Exported CSV file for field func \"phi_g060_m00\" to \"AdjFlux/adjdetector_phi_g060_m00.csv\"\n",
      "[0]  Exported CSV file for field func \"phi_g061_m00\" to \"AdjFlux/adjdetector_phi_g061_m00.csv\"\n",
      "[0]  Exported CSV file for field func \"phi_g062_m00\" to \"AdjFlux/adjdetector_phi_g062_m00.csv\"\n",
      "[0]  Exported CSV file for field func \"phi_g063_m00\" to \"AdjFlux/adjdetector_phi_g063_m00.csv\"\n",
      "[0]  Exported CSV file for field func \"phi_g064_m00\" to \"AdjFlux/adjdetector_phi_g064_m00.csv\"\n",
      "[0]  Exported CSV file for field func \"phi_g065_m00\" to \"AdjFlux/adjdetector_phi_g065_m00.csv\"\n",
      "[0]  Exported CSV file for field func \"phi_g066_m00\" to \"AdjFlux/adjdetector_phi_g066_m00.csv\"\n",
      "[0]  Exported CSV file for field func \"phi_g067_m00\" to \"AdjFlux/adjdetector_phi_g067_m00.csv\"\n",
      "[0]  Exported CSV file for field func \"phi_g068_m00\" to \"AdjFlux/adjdetector_phi_g068_m00.csv\"\n"
     ]
    },
    {
     "data": {
      "image/png": "[encoded data removed]",
      "text/plain": [
       "<Figure size 640x480 with 1 Axes>"
      ]
     },
     "metadata": {},
     "output_type": "display_data"
    }
   ],
   "source": [
    "import csv\n",
    "from os import walk\n",
    "import matplotlib.pyplot as plt\n",
    "\n",
    "for g in range(num_groups):\n",
    "    # Linear Field Function\n",
    "    ffline = FieldFunctionInterpolationLine()\n",
    "    ffline.SetInitialPoint(Vector3(0.0, 0.0, z[0]))\n",
    "    ffline.SetFinalPoint(Vector3(0.0, 0.0, z[-1]))\n",
    "    ffline.SetNumberOfPoints(1000)\n",
    "    ffline.AddFieldFunction(fflist[g][0])\n",
    "    ffline.Initialize()\n",
    "    ffline.Execute()\n",
    "    ffline.ExportToCSV(\"AdjFlux/adjdetector\")\n",
    "\n",
    "# Convert each CSV to a python dictionary\n",
    "def CSVToDict(filename):\n",
    "    data = {}\n",
    "    with open(filename, newline=\"\") as csvfile:\n",
    "        reader = csv.DictReader(csvfile)\n",
    "        for row in reader:\n",
    "            for key, value in row.items():\n",
    "                data.setdefault(key, []).append(float(value))\n",
    "    return data\n",
    "\n",
    "# Collect each groupwise flux distribution into a dictionary\n",
    "# Flux -> g001 -> {x,y,z,phi_g001_m00}\n",
    "#      -> g002 -> {x,y,z,phi_g002_m00}\n",
    "#      -> .... ->         ...\n",
    "#      -> g068 -> {x,y,z,phi_g068_m00}        \n",
    "Flux = {}\n",
    "for (dirpath, dirnames, filenames) in walk('AdjFlux/'):\n",
    "   for filename in filenames:\n",
    "        if filename.split(\".\")[1] == \"csv\":\n",
    "            grp = filename.split('.')[0].split('_')[2]\n",
    "            key = \"_\".join(filename.split('.')[0].split('_')[1:])\n",
    "            fwd_dict = CSVToDict(\"AdjFlux/\"+filename)\n",
    "            Flux[grp] = CSVToDict(\"AdjFlux/\"+filename)\n",
    "\n",
    "if rank == 0:\n",
    "    # Plot of the flux distribution\n",
    "    z = Flux['g003']['z']\n",
    "    flux_g3 = Flux['g003']['phi_g003_m00']\n",
    "    flux_g52 = Flux['g052']['phi_g052_m00']\n",
    "\n",
    "    plt.figure()\n",
    "    plt.plot(z, flux_g3, label=\"Group 3: [1.353,2.231] MeV\")\n",
    "    plt.plot(z, flux_g52, label=\"Group 52: [2.2E-07, 2.5E-07] MeV\")\n",
    "    plt.xlabel(\"Distance (cm)\")\n",
    "    plt.ylabel(r\"$\\phi^g(z)$\")\n",
    "    plt.legend()\n",
    "    plt.grid()\n",
    "    plt.show()"
   ]
  },
  {
   "cell_type": "markdown",
   "metadata": {},
   "source": [
    "### Compute Leakage\n",
    "We can simultaneously compute the groupwise leakage rate at the left ($Z_\\text{min}$) and/or right ($Z_\\text{max}$) boundaries of the problem domain, $\\vec{j}^g\\big|_{\\Gamma\\pm}$."
   ]
  },
  {
   "cell_type": "code",
   "execution_count": 19,
   "metadata": {},
   "outputs": [
    {
     "name": "stdout",
     "output_type": "stream",
     "text": [
      "Total Leakage ZMin : 7.366151e-04\n",
      "Total Leakage ZMax : 2.236497e-04\n",
      "Total Leakage : 9.602648e-04\n"
     ]
    },
    {
     "data": {
      "image/png": "[encoded data removed]",
      "text/plain": [
       "<Figure size 2200x800 with 2 Axes>"
      ]
     },
     "metadata": {},
     "output_type": "display_data"
    }
   ],
   "source": [
    "emid = (groups[:-1]+groups[1:])/2\n",
    "\n",
    "leakage = phys.ComputeLeakage([\"zmin\", \"zmax\"]) \n",
    "lkg_zmin = leakage['zmin']\n",
    "lkg_zmax = leakage['zmax']\n",
    "\n",
    "fig = plt.figure(figsize=(22,8))\n",
    "axs = []\n",
    "if rank == 0:\n",
    "    # Leakage spectrum\n",
    "    axs.append(fig.add_subplot(121))\n",
    "    axs[0].loglog(emid, lkg_zmin/group_width, drawstyle='steps', label=\"ZMin\")\n",
    "    axs[0].loglog(emid, lkg_zmax/group_width, drawstyle='steps', label=\"ZMax\")\n",
    "    axs[0].set_xlabel(\"Energy (MeV)\", fontsize=20)\n",
    "    axs[0].set_ylabel(r\"$\\vec{j}^{g}(E)|_{\\Gamma_{\\text{+}}}$\", fontsize=20)\n",
    "    axs[0].set_title(\"Leakage Spectrum\", fontsize=20)\n",
    "    axs[0].tick_params(axis='both', which='major', labelsize=20)\n",
    "    axs[0].legend(fontsize=20)\n",
    "    axs[0].grid()\n",
    "\n",
    "    # Leakage spectrum per unit lethargy\n",
    "    axs.append(fig.add_subplot(122))\n",
    "    axs[1].loglog(emid, lkg_zmin*emid/group_width, drawstyle='steps', label=\"ZMin\")\n",
    "    axs[1].loglog(emid, lkg_zmax*emid/group_width, drawstyle='steps', label=\"ZMax\")\n",
    "    axs[1].set_xlabel(\"Energy (MeV)\", fontsize=20)\n",
    "    axs[1].set_ylabel(r\"$\\vec{j}^{g}(u)|_{\\Gamma_{\\text{+}}}$\", fontsize=20)\n",
    "    axs[1].set_title(\"Leakage Spectrum per unit lethargy\", fontsize=20)\n",
    "    axs[1].tick_params(axis='both', which='major', labelsize=20)\n",
    "    axs[1].legend(fontsize=20)\n",
    "    axs[1].grid()\n",
    "    \n",
    "    print(f\"{'Total Leakage ZMin :'} {np.sum(lkg_zmin):.6e}\")\n",
    "    print(f\"{'Total Leakage ZMax :'} {np.sum(lkg_zmax):.6e}\")\n",
    "    print(f\"{'Total Leakage :'} {np.sum(lkg_zmin)+np.sum(lkg_zmax):.6e}\")"
   ]
  },
  {
   "cell_type": "markdown",
   "metadata": {},
   "source": [
    "### Compute Balance"
   ]
  },
  {
   "cell_type": "code",
   "execution_count": 20,
   "metadata": {},
   "outputs": [
    {
     "name": "stdout",
     "output_type": "stream",
     "text": [
      "[0]  Balance table:\n",
      "[0]   Absorption rate             = 2.992505e+01\n",
      "[0]   Production rate             = 3.312229e+01\n",
      "[0]   In-flow rate                = 0.000000e+00\n",
      "[0]   Out-flow rate               = 4.720754e+00\n",
      "[0]   Gain (In-flow + Production) = 3.312229e+01\n",
      "[0]   Balance (Gain - Loss)       = -1.523505e+00\n",
      "[0]   Balance/Gain, in %          = -4.599636e+00\n"
     ]
    }
   ],
   "source": [
    "balance = phys.ComputeBalance()"
   ]
  },
  {
   "cell_type": "markdown",
   "metadata": {},
   "source": [
    "## Finalize (for Jupyter Notebook only)\n",
    "\n",
    "In Python script mode, PyOpenSn automatically handles environment termination. However, this\n",
    "automatic finalization does not occur when running in a Jupyter notebook, so explicit finalization\n",
    "of the environment at the end of the notebook is required. Do not call the finalization in Python\n",
    "script mode, or in console mode.\n",
    "\n",
    "Note that PyOpenSn's finalization must be called before MPI's finalization.\n"
   ]
  },
  {
   "cell_type": "code",
   "execution_count": 21,
   "metadata": {},
   "outputs": [
    {
     "data": {
      "text/plain": [
       "0"
      ]
     },
     "execution_count": 21,
     "metadata": {},
     "output_type": "execute_result"
    },
    {
     "name": "stdout",
     "output_type": "stream",
     "text": [
      "\n",
      "Elapsed execution time: 00:00:51.2\n",
      "2025-09-20 01:46:00 OpenSn finished execution.\n"
     ]
    }
   ],
   "source": [
    "from IPython import get_ipython\n",
    "\n",
    "def finalize_env():\n",
    "    Finalize()\n",
    "    MPI.Finalize()\n",
    "\n",
    "ipython_instance = get_ipython()\n",
    "if ipython_instance is not None:\n",
    "    ipython_instance.events.register(\"post_execute\", finalize_env)\n",
    "\n",
    "os.system(\"rm -rf Data AdjFlux Results\")"
   ]
  }
 ],
 "metadata": {
  "kernelspec": {
   "display_name": "opensn_env",
   "language": "python",
   "name": "python3"
  },
  "language_info": {
   "codemirror_mode": {
    "name": "ipython",
    "version": 3
   },
   "file_extension": ".py",
   "mimetype": "text/x-python",
   "name": "python",
   "nbconvert_exporter": "python",
   "pygments_lexer": "ipython3",
   "version": "3.12.3"
  }
 },
 "nbformat": 4,
 "nbformat_minor": 4
}
