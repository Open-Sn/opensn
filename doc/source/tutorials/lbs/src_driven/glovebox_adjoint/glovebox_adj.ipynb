{
 "cells": [
  {
   "cell_type": "markdown",
   "metadata": {},
   "source": [
    "# Adjoint Method with Multiple Detector Responses\n",
    "In this example, we will explore leveraging OpenSn's adjoint formulation of the linear Boltzmann solver to compute response functions in two Helium-3 detectors within a mockup 2D glovebox.\n",
    "\n",
    "The following is a complete transport simulation example. Each element of the simulation can be described in the sections below:\n",
    "- [Prerequisites](#prerequisites)\n",
    "- [Geometry](#Geometry)\n",
    "- [Mesh](#mesh)\n",
    "    - [Cross Sections](#cross-sections)\n",
    "- [Solver](#Solver)\n",
    "    - [Angular Quadrature](#angular-quadrature)\n",
    "    - [Group Structure](#group-structure)\n",
    "    - [Adjoint Source Definition](#adjoint-source-definition)\n",
    "    - [Discrete Ordinates Problem](#discrete-ordinates-problem)\n",
    "    - [Execute](#execute)\n",
    "- [Post Processing](#post-processing)\n",
    "    - [Write Flux Moments](#write-flux-moments)\n",
    "    - [Detector Response](#detector-response)"
   ]
  },
  {
   "cell_type": "markdown",
   "metadata": {},
   "source": [
    "---\n",
    "## Prerequisites\n",
    "\n",
    "Before running this example, make sure that the **Python module of OpenSn** was installed.\n",
    "\n",
    "### Converting and Running this Notebook from the Terminal\n",
    "To run this notebook from the terminal, simply type:\n",
    "\n",
    "`jupyter nbconvert --to python --execute glovebox_adj.ipynb`.\n",
    "\n",
    "To run this notebook in parallel (for example, using 4 processes), simply type:\n",
    "\n",
    "`mpiexec -n 4 jupyter nbconvert --to python --execute glovebox_adj.ipynb`."
   ]
  },
  {
   "cell_type": "code",
   "execution_count": null,
   "metadata": {},
   "outputs": [],
   "source": [
    "from mpi4py import MPI\n",
    "size = MPI.COMM_WORLD.size\n",
    "rank = MPI.COMM_WORLD.rank\n",
    "barrier = MPI.COMM_WORLD.barrier\n",
    "\n",
    "if rank == 0:\n",
    "    print(f\"Running the LBS adjoint glovebox example problem with {size} MPI processors.\")"
   ]
  },
  {
   "cell_type": "markdown",
   "metadata": {},
   "source": [
    "### Import Requirements\n",
    "\n",
    "Import required classes and functions from the Python interface of OpenSn. Make sure that the path\n",
    "to PyOpenSn is appended to Python's PATH."
   ]
  },
  {
   "cell_type": "code",
   "execution_count": null,
   "metadata": {},
   "outputs": [],
   "source": [
    "import os\n",
    "import sys\n",
    "import math\n",
    "import numpy as np\n",
    "\n",
    "# assuming that the execute dir is the notebook dir\n",
    "# this line is not necessary when PyOpenSn is installed using pip\n",
    "sys.path.append(\"../../..\")\n",
    "\n",
    "from pyopensn.mesh import FromFileMeshGenerator, PETScGraphPartitioner\n",
    "from pyopensn.xs import MultiGroupXS\n",
    "from pyopensn.source import VolumetricSource\n",
    "from pyopensn.aquad import GLCProductQuadrature2DXY\n",
    "from pyopensn.solver import DiscreteOrdinatesProblem, SteadyStateSourceSolver\n",
    "from pyopensn.response import ResponseEvaluator\n",
    "from pyopensn.math import Vector3, VectorSpatialFunction\n",
    "from pyopensn.fieldfunc import FieldFunctionInterpolationVolume, \\\n",
    "                               FieldFunctionInterpolationLine, \\\n",
    "                               FieldFunctionGridBased\n",
    "from pyopensn.logvol import RCCLogicalVolume\n",
    "from pyopensn.context import UseColor, Finalize"
   ]
  },
  {
   "cell_type": "markdown",
   "metadata": {},
   "source": [
    "## Geometry\n",
    "In this example, we define a 2D multigroup, source-driven detector response problem. The neutron source is modeled as a circular region of Cf-252 encased in 0.1 cm of stainless steel (SS-316). Two He-3 detectors are then defined as circular regions of He-3 within SS-316 sleeves, each embedded in a $10\\text{cm}\\times 10\\text{cm}$ block of high-density polyethylene (HDPE). The geometric layout of the problem is shown below:\n",
    "\n",
    "<img src=\"images/glovebox_geom.png\"/>"
   ]
  },
  {
   "cell_type": "markdown",
   "metadata": {},
   "source": [
    "---"
   ]
  },
  {
   "cell_type": "markdown",
   "metadata": {},
   "source": [
    "## Mesh\n",
    "In this section, we import an unstructured mesh generated using the open-source meshing tool Gmsh."
   ]
  },
  {
   "cell_type": "code",
   "execution_count": null,
   "metadata": {},
   "outputs": [],
   "source": [
    "meshgen = FromFileMeshGenerator(\n",
    "    filename=\"glovebox.msh\",\n",
    "    partitioner=PETScGraphPartitioner(type='parmetis'),\n",
    ")\n",
    "grid = meshgen.Execute()\n",
    "grid.SetOrthogonalBoundaries()"
   ]
  },
  {
   "cell_type": "markdown",
   "metadata": {},
   "source": [
    "<img src=\"images/glovebox_mesh.png\"/>\n",
    "\n",
    "<img src=\"images/det_mesh.png\" width=\"400\"/>\n",
    "\n",
    "<img src=\"images/src_mesh.png\" width=\"400\"/>\n",
    "\n",
    "The total cell count for this mesh is 8,214."
   ]
  },
  {
   "cell_type": "markdown",
   "metadata": {},
   "source": [
    "### Cross Sections\n",
    "In this problem we are running a multigroup problem for the absoprtion reaction rate in a He-3 glovebox. This begins with importing our multigroup cross sections. In this case we will be using the WIMS69 group structure for 5 materials:\n",
    "- Air\n",
    "- SS-316\n",
    "- HDPE\n",
    "- He-3\n",
    "- Cf-252\n",
    "\n",
    "Since we are importing a Gmsh mesh, materials IDs are assigned to the corresponding physcial group ID. Look at [glovebox.msh](./glovebox.msh) under `PhysicalNames`."
   ]
  },
  {
   "cell_type": "code",
   "execution_count": null,
   "metadata": {},
   "outputs": [],
   "source": [
    "xs_dir = \"WIMS69\"\n",
    "xs_air = MultiGroupXS()\n",
    "xs_air.LoadFromOpenSn(xs_dir+\"/Air.cxs\")\n",
    "\n",
    "xs_steel = MultiGroupXS()\n",
    "xs_steel.LoadFromOpenSn(xs_dir+\"/SS_316.cxs\")\n",
    "\n",
    "xs_hdpe = MultiGroupXS()\n",
    "xs_hdpe.LoadFromOpenSn(xs_dir+\"/HDPE.cxs\")\n",
    "\n",
    "xs_he3 = MultiGroupXS()\n",
    "xs_he3.LoadFromOpenSn(xs_dir+\"/He3.cxs\")\n",
    "\n",
    "xs_cf = MultiGroupXS()\n",
    "xs_cf.LoadFromOpenSn(xs_dir+\"/Cf252.cxs\")\n",
    "\n",
    "xsecs = [{\"block_ids\": [1], \"xs\": xs_air},\n",
    "         {\"block_ids\": [2], \"xs\": xs_steel},\n",
    "         {\"block_ids\": [3], \"xs\": xs_hdpe},\n",
    "         {\"block_ids\": [4], \"xs\": xs_he3},\n",
    "         {\"block_ids\": [5], \"xs\": xs_cf}]"
   ]
  },
  {
   "cell_type": "markdown",
   "metadata": {},
   "source": [
    "---"
   ]
  },
  {
   "cell_type": "markdown",
   "metadata": {},
   "source": [
    "## **Solver**"
   ]
  },
  {
   "cell_type": "markdown",
   "metadata": {},
   "source": [
    "### Angular Quadrature\n",
    "Since we are solving a 2D problem we will create Gauss-Legendre Product Quadrature in 2D. In this case we will use 2 polar angles and 128 azimuthal angles. With polar symmetry that leaves us with 128 angles. "
   ]
  },
  {
   "cell_type": "code",
   "execution_count": null,
   "metadata": {},
   "outputs": [],
   "source": [
    "pquad = GLCProductQuadrature2DXY(n_polar=2, \n",
    "                                 n_azimuthal=128,\n",
    "                                 scattering_order=0)"
   ]
  },
  {
   "cell_type": "markdown",
   "metadata": {},
   "source": [
    "### Group Structure\n",
    "Since we are using the WIMS69 group structure, we define a groupset block with 69 energy groups."
   ]
  },
  {
   "cell_type": "code",
   "execution_count": null,
   "metadata": {},
   "outputs": [],
   "source": [
    "num_groups = 69\n",
    "grpsets = [\n",
    "    {\n",
    "        \"groups_from_to\": (0, num_groups-1),\n",
    "        \"angular_quadrature\": pquad,\n",
    "        \"inner_linear_method\": \"petsc_gmres\",\n",
    "        \"l_abs_tol\": 1.0e-9,\n",
    "        \"l_max_its\": 500,\n",
    "        \"gmres_restart_interval\": 100,\n",
    "    },\n",
    "]"
   ]
  },
  {
   "cell_type": "markdown",
   "metadata": {},
   "source": [
    "### Adjoint Source Definition\n",
    "\n",
    "To solve the 2D transport problem using the adjoint operator, we first define the adjoint source $q^{\\dagger}$ over the detector volume, assigning a source strength equal to the absorption cross section of the detector, $\\sigma_a^{\\text{He3},g}$. By default, adjoint sources are distributed isotropically in angle across the source domain.\n",
    "\n",
    "To implement this, we create a `ResponseFunction`. A response function allows us to define the group-wise source strength, which can be used to specify responses in particular energy bins or, in this case, to capture the detector response. To record the response for a specific detector, we set the `logical_volume` of the adjoint source to the detector of interest. "
   ]
  },
  {
   "cell_type": "code",
   "execution_count": null,
   "metadata": {},
   "outputs": [],
   "source": [
    "det1 = [7.0, 10.0, 0.0]\n",
    "det2 = [47.0, 10.0, 0.0]\n",
    "dets = [det1, det2]\n",
    "det_logvols = []\n",
    "for det in dets:\n",
    "    r_he3 = 1.2\n",
    "    he3 = RCCLogicalVolume(\n",
    "                r=r_he3, \n",
    "                x0=det[0], y0=det[1], \n",
    "                z0=-2.0, vz= 2.0\n",
    "    )\n",
    "    det_logvols.append(he3)"
   ]
  },
  {
   "cell_type": "markdown",
   "metadata": {},
   "source": [
    "For this initial example, we will be computing the detector response for detector-1, towards the left of the detector."
   ]
  },
  {
   "cell_type": "code",
   "execution_count": null,
   "metadata": {},
   "outputs": [],
   "source": [
    "def ResponseFunction(xyz, mat_id):\n",
    "    response = xs_he3.sigma_a\n",
    "    return response\n",
    "response_func = VectorSpatialFunction(ResponseFunction)\n",
    "\n",
    "adj_src = VolumetricSource(logical_volume=det_logvols[0], func=response_func)"
   ]
  },
  {
   "cell_type": "markdown",
   "metadata": {},
   "source": [
    "### Discrete Ordinates Problem\n",
    "For the problem block, we provide\n",
    "+ mesh : The mesh\n",
    "+ num_groups : The number of energy groups\n",
    "+ groupsets : The groupsets block\n",
    "+ scattering_order : The scattering order\n",
    "+ xs_map : Cross section map\n",
    "+ volumetric_sources : The volumetric source\n",
    "+ boundary_conditions : The boundary conditions\n",
    "+ options : Physics solver options"
   ]
  },
  {
   "cell_type": "code",
   "execution_count": null,
   "metadata": {},
   "outputs": [],
   "source": [
    "phys = DiscreteOrdinatesProblem(\n",
    "    mesh=grid,\n",
    "    num_groups=num_groups,\n",
    "    groupsets=grpsets,\n",
    "    scattering_order=0,\n",
    "    xs_map=xsecs,\n",
    "    volumetric_sources = [adj_src],\n",
    "    boundary_conditions = [\n",
    "        {\"name\": \"xmin\", \"type\": \"vacuum\"},\n",
    "        {\"name\": \"xmax\", \"type\": \"vacuum\"},\n",
    "        {\"name\": \"ymin\", \"type\": \"vacuum\"},\n",
    "        {\"name\": \"ymax\", \"type\": \"vacuum\"},\n",
    "    ],\n",
    "    options = {\"save_angular_flux\": True,\n",
    "               \"adjoint\": True},\n",
    ")"
   ]
  },
  {
   "cell_type": "markdown",
   "metadata": {},
   "source": [
    "### Execute\n",
    "We then create the physics solver, initialize it, and execute it."
   ]
  },
  {
   "cell_type": "code",
   "execution_count": null,
   "metadata": {},
   "outputs": [],
   "source": [
    "ss_solver = SteadyStateSourceSolver(problem=phys)\n",
    "ss_solver.Initialize()\n",
    "ss_solver.Execute()"
   ]
  },
  {
   "cell_type": "markdown",
   "metadata": {},
   "source": [
    "---"
   ]
  },
  {
   "cell_type": "markdown",
   "metadata": {},
   "source": [
    "## Post Processing\n",
    "### Write Flux Moments\n",
    "When evaluating response functions via the adjoint formalism its efficiency derives from having access to the adjoint solution $\\phi^{\\dagger,g}$. For this, we export the adjoint flux moments to a .h5 file using `WriteFluxMoments`. The adjoint data is then saved to a location of our choosing.  "
   ]
  },
  {
   "cell_type": "code",
   "execution_count": null,
   "metadata": {},
   "outputs": [],
   "source": [
    "data_dir = os.getcwd()+\"/Data\"\n",
    "os.makedirs(data_dir, exist_ok=True)\n",
    "\n",
    "phys.WriteFluxMoments(data_dir+\"/adjphi_det1_p\")"
   ]
  },
  {
   "cell_type": "markdown",
   "metadata": {},
   "source": [
    "### Detector Response\n",
    "\n",
    "An adjoint formulation has no meaning without a corresponding forward response. For the volumetric source, we first define the forward source spectrum. In this case, we assign a uniform energy spectrum distributed throughout the source logical volume. Using `VolumetricSource`, this group-wise source is specified per unit length for material ID 5."
   ]
  },
  {
   "cell_type": "code",
   "execution_count": null,
   "metadata": {},
   "outputs": [],
   "source": [
    "groups = np.flip([1.00000E-11, 5.00000E-09, 1.00000E-08, 1.50000E-08, 2.00000E-08, \n",
    "                  2.50000E-08, 3.00000E-08, 3.50000E-08, 4.20000E-08, 5.00000E-08, \n",
    "                  5.80000E-08, 6.70000E-08, 8.00000E-08, 1.00000E-07, 1.40000E-07, \n",
    "                  1.80000E-07, 2.20000E-07, 2.50000E-07, 2.80000E-07, 3.00000E-07, \n",
    "                  3.20000E-07, 3.50000E-07, 4.00000E-07, 5.00000E-07, 6.25000E-07, \n",
    "                  7.80000E-07, 8.50000E-07, 9.10000E-07, 9.50000E-07, 9.72000E-07, \n",
    "                  9.96000E-07, 1.02000E-06, 1.04500E-06, 1.07100E-06, 1.09700E-06, \n",
    "                  1.12300E-06, 1.15000E-06, 1.30000E-06, 1.50000E-06, 2.10000E-06, \n",
    "                  2.60000E-06, 3.30000E-06, 4.00000E-06, 9.87700E-06, 1.59680E-05, \n",
    "                  2.77000E-05, 4.80520E-05, 7.55014E-05, 1.48729E-04, 3.67263E-04, \n",
    "                  9.06899E-04, 1.42510E-03, 2.23945E-03, 3.51910E-03, 5.53000E-03, \n",
    "                  9.11800E-03, 1.50300E-02, 2.47800E-02, 4.08500E-02, 6.73400E-02, \n",
    "                  1.11000E-01, 1.83000E-01, 3.02500E-01, 5.00000E-01, 8.21000E-01, \n",
    "                  1.35300E+00, 2.23100E+00, 3.67900E+00, 6.06550E+00, 1.00000E+01])\n",
    "group_width = -np.diff(groups)\n",
    "dE = groups[0] - groups[-1]\n",
    "dA = np.pi*0.2*0.2\n",
    "Q = (group_width / dE / dA).tolist()\n",
    "\n",
    "fwd_src = {'material': [{'block_id': 5, 'strength': Q}]}"
   ]
  },
  {
   "cell_type": "markdown",
   "metadata": {},
   "source": [
    "With the adjoint data in hand and a forward source defined, we now create a `ResponseEvaluator`. \n",
    "\n",
    "We supply two options to the `evaluator`; the `buffers` (adjoint data) and the `sources`."
   ]
  },
  {
   "cell_type": "code",
   "execution_count": null,
   "metadata": {},
   "outputs": [],
   "source": [
    "evaluator = ResponseEvaluator(problem = phys)\n",
    "evaluator.SetOptions(\n",
    "    buffers = [{\n",
    "        'name': 'detector1', \n",
    "        'file_prefixes': {'flux_moments': data_dir+'/adjphi_det1_p'}\n",
    "    }],\n",
    "    sources = fwd_src\n",
    ")"
   ]
  },
  {
   "cell_type": "markdown",
   "metadata": {},
   "source": [
    "For computing the detector response we make use of `EvaluateResponse` which given a buffer name will compute an inner product of the adjoint flux $\\phi^{\\dagger}$ against the forward source $q$ using the [duality principle](../../../theory/adjoint.rst) such that:\n",
    "\n",
    "$$\n",
    "\\text{QoI} =  \\sum^G_g \\, \\text{RR}^g = \\sum^G_g \\, \\int_\\mathcal{D} d^3r \\, \\int_{(4\\pi)}   d\\Omega  \\, q^g(\\vec{r},\\vec\\Omega) \\psi^{\\dagger,g}(\\vec{r},\\vec\\Omega) = \\sum^G_g \\, \\int_\\mathcal{D}  d^3r  \\, q^g(\\vec{r}) \\phi^{\\dagger,g}(\\vec{r})\n",
    "$$"
   ]
  },
  {
   "cell_type": "markdown",
   "metadata": {},
   "source": [
    "At each group the solution $\\phi^g(\\vec{r})$ is multiplied by the detector response at that group $\\sigma^{He3,g}_{a}$. "
   ]
  },
  {
   "cell_type": "code",
   "execution_count": null,
   "metadata": {},
   "outputs": [],
   "source": [
    "adj_resp = evaluator.EvaluateResponse(\"detector1\")\n",
    "\n",
    "if rank == 0:\n",
    "    print(f\"{'Total Response Detector 1:'} {adj_resp:.6e}\")"
   ]
  },
  {
   "cell_type": "markdown",
   "metadata": {},
   "source": [
    "Total Response Detector 1 : 4.457174e-03\\\n",
    "Total Response Detector 2 : 4.458115e-03"
   ]
  },
  {
   "cell_type": "markdown",
   "metadata": {},
   "source": [
    "With our field function defined, we can also export the multi-group adjoint flux moments, $\\phi^{\\dagger,g}$, to a .vtu file using ``ExportMultipleToPVTU``."
   ]
  },
  {
   "cell_type": "code",
   "execution_count": null,
   "metadata": {},
   "outputs": [],
   "source": [
    "fflist = phys.GetScalarFieldFunctionList(only_scalar_flux=False)\n",
    "fields = []\n",
    "for g in range(num_groups):\n",
    "    fields.append(fflist[g][0])\n",
    "\n",
    "FFGrid = FieldFunctionGridBased\n",
    "FFGrid.ExportMultipleToPVTU(fields, \"AdjFlux/detector1_p\")"
   ]
  },
  {
   "cell_type": "markdown",
   "metadata": {},
   "source": [
    "Detector 1: \n",
    "\n",
    "[1.353, 2.231] MeV \n",
    "\n",
    "<img src=\"images/det1_g3.png\"/>\n",
    "\n",
    "\n",
    "[2.2e-07, 2.5e-07] MeV \n",
    "\n",
    "<img src=\"images/det1_g52.png\"/>"
   ]
  },
  {
   "cell_type": "markdown",
   "metadata": {},
   "source": [
    "Detector 2:\n",
    "\n",
    "[1.353, 2.231] MeV \n",
    "\n",
    "<img src=\"images/det2_g3.png\"/>\n",
    "\n",
    "\n",
    "[2.2e-07, 2.5e-07] MeV \n",
    "\n",
    "<img src=\"images/det2_g52.png\"/>"
   ]
  },
  {
   "cell_type": "markdown",
   "metadata": {},
   "source": [
    "## Finalize (for Jupyter Notebook only)\n",
    "\n",
    "In Python script mode, PyOpenSn automatically handles environment termination. However, this\n",
    "automatic finalization does not occur when running in a Jupyter notebook, so explicit finalization\n",
    "of the environment at the end of the notebook is required. Do not call the finalization in Python\n",
    "script mode, or in console mode.\n",
    "\n",
    "Note that PyOpenSn's finalization must be called before MPI's finalization.\n"
   ]
  },
  {
   "cell_type": "code",
   "execution_count": null,
   "metadata": {},
   "outputs": [],
   "source": [
    "from IPython import get_ipython\n",
    "\n",
    "def finalize_env():\n",
    "    Finalize()\n",
    "    MPI.Finalize()\n",
    "\n",
    "ipython_instance = get_ipython()\n",
    "if ipython_instance is not None:\n",
    "    ipython_instance.events.register(\"post_execute\", finalize_env)\n",
    "\n",
    "os.system(\"rm -rf Data AdjFlux Results\")\n"
   ]
  }
 ],
 "metadata": {
  "kernelspec": {
   "display_name": "opensn_env",
   "language": "python",
   "name": "python3"
  },
  "language_info": {
   "codemirror_mode": {
    "name": "ipython",
    "version": 3
   },
   "file_extension": ".py",
   "mimetype": "text/x-python",
   "name": "python",
   "nbconvert_exporter": "python",
   "pygments_lexer": "ipython3",
   "version": "3.12.3"
  }
 },
 "nbformat": 4,
 "nbformat_minor": 4
}
